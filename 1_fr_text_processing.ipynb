{
  "nbformat": 4,
  "nbformat_minor": 0,
  "metadata": {
    "colab": {
      "provenance": [],
      "authorship_tag": "ABX9TyN/ELdlMU76piIMUvD4EFlD",
      "include_colab_link": true
    },
    "kernelspec": {
      "name": "python3",
      "display_name": "Python 3"
    },
    "language_info": {
      "name": "python"
    }
  },
  "cells": [
    {
      "cell_type": "markdown",
      "metadata": {
        "id": "view-in-github",
        "colab_type": "text"
      },
      "source": [
        "<a href=\"https://colab.research.google.com/github/cw118/domain-adapted-nmt/blob/main/1_fr_text_processing.ipynb\" target=\"_parent\"><img src=\"https://colab.research.google.com/assets/colab-badge.svg\" alt=\"Open In Colab\"/></a>"
      ]
    },
    {
      "cell_type": "markdown",
      "source": [
        "# Domain-adapted NMT\n",
        "\n",
        "## Text classification and processing"
      ],
      "metadata": {
        "id": "n76XsXcn1dM1"
      }
    },
    {
      "cell_type": "code",
      "source": [
        "!pip install opustools[all]"
      ],
      "metadata": {
        "colab": {
          "base_uri": "https://localhost:8080/"
        },
        "id": "lLU7Z1oEEiY2",
        "outputId": "458bf69d-d440-4df5-9741-9b61b59a74f6"
      },
      "execution_count": null,
      "outputs": [
        {
          "output_type": "stream",
          "name": "stdout",
          "text": [
            "Collecting opustools[all]\n",
            "  Downloading opustools-1.6.1-py3-none-any.whl (18.3 MB)\n",
            "\u001b[2K     \u001b[90m━━━━━━━━━━━━━━━━━━━━━━━━━━━━━━━━━━━━━━━━\u001b[0m \u001b[32m18.3/18.3 MB\u001b[0m \u001b[31m31.5 MB/s\u001b[0m eta \u001b[36m0:00:00\u001b[0m\n",
            "\u001b[?25hCollecting ruamel.yaml (from opustools[all])\n",
            "  Downloading ruamel.yaml-0.18.5-py3-none-any.whl (116 kB)\n",
            "\u001b[2K     \u001b[90m━━━━━━━━━━━━━━━━━━━━━━━━━━━━━━━━━━━━━━━━\u001b[0m \u001b[32m116.4/116.4 kB\u001b[0m \u001b[31m5.7 MB/s\u001b[0m eta \u001b[36m0:00:00\u001b[0m\n",
            "\u001b[?25hCollecting pycld2 (from opustools[all])\n",
            "  Downloading pycld2-0.41.tar.gz (41.4 MB)\n",
            "\u001b[2K     \u001b[90m━━━━━━━━━━━━━━━━━━━━━━━━━━━━━━━━━━━━━━━━\u001b[0m \u001b[32m41.4/41.4 MB\u001b[0m \u001b[31m12.9 MB/s\u001b[0m eta \u001b[36m0:00:00\u001b[0m\n",
            "\u001b[?25h  Preparing metadata (setup.py) ... \u001b[?25l\u001b[?25hdone\n",
            "Collecting langid (from opustools[all])\n",
            "  Downloading langid-1.1.6.tar.gz (1.9 MB)\n",
            "\u001b[2K     \u001b[90m━━━━━━━━━━━━━━━━━━━━━━━━━━━━━━━━━━━━━━━━\u001b[0m \u001b[32m1.9/1.9 MB\u001b[0m \u001b[31m11.1 MB/s\u001b[0m eta \u001b[36m0:00:00\u001b[0m\n",
            "\u001b[?25h  Preparing metadata (setup.py) ... \u001b[?25l\u001b[?25hdone\n",
            "Requirement already satisfied: numpy in /usr/local/lib/python3.10/dist-packages (from langid->opustools[all]) (1.23.5)\n",
            "Collecting ruamel.yaml.clib>=0.2.7 (from ruamel.yaml->opustools[all])\n",
            "  Downloading ruamel.yaml.clib-0.2.8-cp310-cp310-manylinux_2_17_x86_64.manylinux2014_x86_64.manylinux_2_24_x86_64.whl (526 kB)\n",
            "\u001b[2K     \u001b[90m━━━━━━━━━━━━━━━━━━━━━━━━━━━━━━━━━━━━━━━━\u001b[0m \u001b[32m526.7/526.7 kB\u001b[0m \u001b[31m11.5 MB/s\u001b[0m eta \u001b[36m0:00:00\u001b[0m\n",
            "\u001b[?25hBuilding wheels for collected packages: langid, pycld2\n",
            "  Building wheel for langid (setup.py) ... \u001b[?25l\u001b[?25hdone\n",
            "  Created wheel for langid: filename=langid-1.1.6-py3-none-any.whl size=1941172 sha256=2af9143756999d98b182cd29145d28c0b11c86a4934085c5853970ab546aef3f\n",
            "  Stored in directory: /root/.cache/pip/wheels/23/c8/c6/eed80894918490a175677414d40bd7c851413bbe03d4856c3c\n",
            "  Building wheel for pycld2 (setup.py) ... \u001b[?25l\u001b[?25hdone\n",
            "  Created wheel for pycld2: filename=pycld2-0.41-cp310-cp310-linux_x86_64.whl size=9904036 sha256=5c3a9a99bfd50109cf28f3ffe846385c33b2434de1313186c2c06b9375b9f4ab\n",
            "  Stored in directory: /root/.cache/pip/wheels/be/81/31/240c89c845e008a93d98542325270007de595bfd356eb0b06c\n",
            "Successfully built langid pycld2\n",
            "Installing collected packages: pycld2, ruamel.yaml.clib, langid, ruamel.yaml, opustools\n",
            "Successfully installed langid-1.1.6 opustools-1.6.1 pycld2-0.41 ruamel.yaml-0.18.5 ruamel.yaml.clib-0.2.8\n"
          ]
        }
      ]
    },
    {
      "cell_type": "code",
      "source": [
        "!opus_get --source en --target fr --list_corpora"
      ],
      "metadata": {
        "colab": {
          "base_uri": "https://localhost:8080/"
        },
        "id": "xlOD_dLXHfHY",
        "outputId": "368e682e-99ab-4a56-970c-259032c0177c"
      },
      "execution_count": null,
      "outputs": [
        {
          "output_type": "stream",
          "name": "stdout",
          "text": [
            "bible-uedin, Books, CCAligned, CCMatrix, DGT, ECB, ECDC, ELITR-ECA, ELRA-W0138, ELRA-W0149, ELRA-W0201, ELRA-W0301, ELRA-W0305, ELRA-W0307, ELRA-W0308, ELRA-W0309, ELRC-1075-EUIPO_law, ELRC-1100-EUIPO_list, ELRC-1118-CORDIS_News, ELRC-1122-CORDIS_Results_Brief, ELRC-2018-EUIPO_2017, ELRC-2410-Portal_oficial_turis, ELRC-2480-Estatuto_dos_Deputad, ELRC-2481-Constituio_da_Repbli, ELRC-2612-Artigos_visitportuga, ELRC-2614-Localidades_2007, ELRC-2616-Museus_2007, ELRC-2622-Arquitectura_2007, ELRC-2623-Patrimnio_Aores_2006, ELRC-2638-monumentos_2007, ELRC-2639-Parques_e_reservas, ELRC-2641-Praias_2007, ELRC-2720-EMEA, ELRC-2732-vaccination, ELRC-2879-EU_publications_medi, ELRC_2922, ELRC_2923, ELRC-3074-wikipedia_health, ELRC-3208-antibiotic, ELRC-3297-EUROPARL_covid, ELRC_3382, ELRC-3468-EC_EUROPA_covid, ELRC-3569-EUR_LEX_covid, ELRC-3610-presscorner_covid, ELRC-3852-Development_Funds_Re, ELRC-401-Swedish_Labour_Part2, ELRC-403-Rights_Arrested, ELRC-406-Swedish_Labour_Part1, ELRC-416-Swedish_Social_Secur, ELRC-417-Swedish_Work_Environ, ELRC-422-Portuguese_legislati, ELRC-4329-PRINCIPLE_MVEP_legal, ELRC-436-Swedish_Food, ELRC-5067-SciPar, ELRC-5220-Information_crime_vi, ELRC-637-SIP, ELRC-638-Luxembourg.lu, ELRC-646-International_Judici, ELRC-648-Letter_rights_person, ELRC-745-Convention_against_T, ELRC-816-ANR_containing_major, ELRC-832-CHARTER_VALUES_CITIZ, ELRC-837-Legal, ELRC-844-PAeSI__Administratio, ELRC-antibiotic, ELRC-Arquitectura_2007, ELRC-Artigos_visitportuga, ELRC-CORDIS_News, ELRC-CORDIS_Results, ELRC-EC_EUROPA, ELRC-EMEA, ELRC-EUIPO_2017, ELRC-EUIPO_law, ELRC-EUIPO_list, ELRC-EU_publications, ELRC-EUR_LEX, ELRC-EUROPARL_covid, ELRC-Localidades_2007, ELRC-Museus_2007, ELRC-Parques_e, ELRC-Patrimnio_Aores, ELRC-Portuguese_legislati, ELRC-Praias_2007, ELRC-presscorner_covid, ELRC-Swedish_Labour, ELRC-vaccination, ELRC-wikipedia_health, EMEA, EUbookshop, EUconst, Europarl, EuroPat, giga-fren, GlobalVoices, GNOME, infopankki, JRC-Acquis, KDE4, LinguaTools-WikiTitles, MDN_Web_Docs, Mozilla-I10n, MultiUN, NeuLab-TedTalks, News-Commentary, NLLB, OpenOffice, OpenSubtitles, ParaCrawl, PHP, QED, RF, Salome, Tanzil, Tatoeba, TED2013, TED2020, tico-19, TildeMODEL, tldr-pages, Ubuntu, UNPC, WikiMatrix, wikimedia, Wikipedia, WMT-News, XLEnt\n"
          ]
        }
      ]
    },
    {
      "cell_type": "code",
      "source": [
        "# retrieve GNOME localized files corpus\n",
        "# PHP manual not enough sentence pairs for en-fr\n",
        "!opus_read --directory GNOME \\\n",
        "    --source en \\\n",
        "    --target fr \\\n",
        "    --preprocess moses \\\n",
        "    --write en-fr-technology.en en-fr-technology.fr"
      ],
      "metadata": {
        "colab": {
          "base_uri": "https://localhost:8080/"
        },
        "id": "-UpHsEqkGDsF",
        "outputId": "73384dee-804b-4b2d-fbf7-289e7b7003c5"
      },
      "execution_count": null,
      "outputs": [
        {
          "output_type": "stream",
          "name": "stdout",
          "text": [
            "The following files are available for downloading:\n",
            "\n",
            "   7 MB https://object.pouta.csc.fi/OPUS-GNOME/v1/moses/en-fr.txt.zip | 252306 alignment pairs, 1855000 source tokens, 2113267 target tokens (id 143115)\n",
            "\n",
            "   7 MB Total size\n",
            "Downloading 1 file(s) with the total size of 7 MB. Continue? (y/n) y\n",
            "./GNOME_latest_moses_en-fr.txt.zip ... 100% of 7 MB\n",
            "Moses files written to ./en-fr-technology.en, ./en-fr-technology.fr\n"
          ]
        }
      ]
    },
    {
      "cell_type": "code",
      "source": [
        "# retrieve EMEA corpus\n",
        "!opus_read --directory EMEA \\\n",
        "    --source en \\\n",
        "    --target fr \\\n",
        "    --preprocess moses \\\n",
        "    --write en-fr-medicine.en en-fr-medicine.fr"
      ],
      "metadata": {
        "colab": {
          "base_uri": "https://localhost:8080/"
        },
        "outputId": "cac1dd69-c917-4a54-9d0b-68b7667c55bd",
        "id": "_WzLEW-6-nJz"
      },
      "execution_count": null,
      "outputs": [
        {
          "output_type": "stream",
          "name": "stdout",
          "text": [
            "The following files are available for downloading:\n",
            "\n",
            "  36 MB https://object.pouta.csc.fi/OPUS-EMEA/v3/moses/en-fr.txt.zip | 1092568 alignment pairs, 12195082 source tokens, 14144280 target tokens (id 80599)\n",
            "\n",
            "  36 MB Total size\n",
            "Downloading 1 file(s) with the total size of 36 MB. Continue? (y/n) y\n",
            "./EMEA_latest_moses_en-fr.txt.zip ... 100% of 36 MB\n",
            "Moses files written to ./en-fr-medicine.en, ./en-fr-medicine.fr\n"
          ]
        }
      ]
    },
    {
      "cell_type": "code",
      "source": [
        "# retrieve MultiUN (multilingual UN) corpus\n",
        "!opus_read --directory MultiUN \\\n",
        "    --source en \\\n",
        "    --target fr \\\n",
        "    --preprocess moses \\\n",
        "    --write en-fr-general.en en-fr-general.fr"
      ],
      "metadata": {
        "id": "n6n0ur4Z-nR8",
        "colab": {
          "base_uri": "https://localhost:8080/"
        },
        "outputId": "3d96df6d-eaff-4ffa-9003-95c97c1a4c63"
      },
      "execution_count": null,
      "outputs": [
        {
          "output_type": "stream",
          "name": "stdout",
          "text": [
            "The following files are available for downloading:\n",
            "\n",
            "   1 GB https://object.pouta.csc.fi/OPUS-MultiUN/v1/moses/en-fr.txt.zip | 13172019 alignment pairs, 320100029 source tokens, 362171080 target tokens (id 260916)\n",
            "\n",
            "   1 GB Total size\n",
            "Downloading 1 file(s) with the total size of 1 GB. Continue? (y/n) y\n",
            "./MultiUN_latest_moses_en-fr.txt.zip ... 100% of 1 GB\n",
            "Moses files written to ./en-fr-general.en, ./en-fr-general.fr\n"
          ]
        }
      ]
    },
    {
      "cell_type": "code",
      "source": [
        "# run MT prep scripts\n",
        "!mkdir nmt-tools\n",
        "%cd nmt-tools\n",
        "!git clone https://github.com/ymoslem/MT-Preparation.git"
      ],
      "metadata": {
        "id": "kDsPDDipLKLb",
        "colab": {
          "base_uri": "https://localhost:8080/"
        },
        "outputId": "14afa8d9-6854-4266-dd85-eaf4360bf771"
      },
      "execution_count": 1,
      "outputs": [
        {
          "output_type": "stream",
          "name": "stdout",
          "text": [
            "/content/nmt-tools\n",
            "Cloning into 'MT-Preparation'...\n",
            "remote: Enumerating objects: 268, done.\u001b[K\n",
            "remote: Counting objects: 100% (268/268), done.\u001b[K\n",
            "remote: Compressing objects: 100% (159/159), done.\u001b[K\n",
            "remote: Total 268 (delta 133), reused 189 (delta 97), pack-reused 0\u001b[K\n",
            "Receiving objects: 100% (268/268), 69.06 KiB | 1.08 MiB/s, done.\n",
            "Resolving deltas: 100% (133/133), done.\n"
          ]
        }
      ]
    },
    {
      "cell_type": "code",
      "source": [
        "!pip3 install -r MT-Preparation/requirements.txt"
      ],
      "metadata": {
        "colab": {
          "base_uri": "https://localhost:8080/"
        },
        "id": "mBuvjRcFLKzb",
        "outputId": "d810f14f-a098-4a68-c7b1-95320f3da053"
      },
      "execution_count": 2,
      "outputs": [
        {
          "output_type": "stream",
          "name": "stdout",
          "text": [
            "Requirement already satisfied: numpy in /usr/local/lib/python3.10/dist-packages (from -r MT-Preparation/requirements.txt (line 1)) (1.23.5)\n",
            "Requirement already satisfied: pandas in /usr/local/lib/python3.10/dist-packages (from -r MT-Preparation/requirements.txt (line 2)) (1.5.3)\n",
            "Collecting sentencepiece (from -r MT-Preparation/requirements.txt (line 3))\n",
            "  Downloading sentencepiece-0.1.99-cp310-cp310-manylinux_2_17_x86_64.manylinux2014_x86_64.whl (1.3 MB)\n",
            "\u001b[2K     \u001b[90m━━━━━━━━━━━━━━━━━━━━━━━━━━━━━━━━━━━━━━━━\u001b[0m \u001b[32m1.3/1.3 MB\u001b[0m \u001b[31m8.6 MB/s\u001b[0m eta \u001b[36m0:00:00\u001b[0m\n",
            "\u001b[?25hRequirement already satisfied: python-dateutil>=2.8.1 in /usr/local/lib/python3.10/dist-packages (from pandas->-r MT-Preparation/requirements.txt (line 2)) (2.8.2)\n",
            "Requirement already satisfied: pytz>=2020.1 in /usr/local/lib/python3.10/dist-packages (from pandas->-r MT-Preparation/requirements.txt (line 2)) (2023.3.post1)\n",
            "Requirement already satisfied: six>=1.5 in /usr/local/lib/python3.10/dist-packages (from python-dateutil>=2.8.1->pandas->-r MT-Preparation/requirements.txt (line 2)) (1.16.0)\n",
            "Installing collected packages: sentencepiece\n",
            "Successfully installed sentencepiece-0.1.99\n"
          ]
        }
      ]
    },
    {
      "cell_type": "code",
      "source": [
        "# filter datasets: general, medicine and technology\n",
        "# Arguments: source file, target file, source language, target language\n",
        "!python3 MT-Preparation/filtering/filter.py /content/en-fr-general.en /content/en-fr-general.fr en fr\n",
        "!python3 MT-Preparation/filtering/filter.py /content/en-fr-medicine.en /content/en-fr-medicine.fr en fr\n",
        "!python3 MT-Preparation/filtering/filter.py /content/en-fr-technology.en /content/en-fr-technology.fr en fr"
      ],
      "metadata": {
        "colab": {
          "base_uri": "https://localhost:8080/"
        },
        "id": "Qq0y93Q9ic_P",
        "outputId": "e0f41ca6-ab59-483d-b274-2548bb08ad71"
      },
      "execution_count": null,
      "outputs": [
        {
          "output_type": "stream",
          "name": "stdout",
          "text": [
            "Dataframe shape (rows, columns): (13172019, 2)\n",
            "--- Rows with Empty Cells Deleted\t--> Rows: 13172005\n",
            "--- Duplicates Deleted\t\t\t--> Rows: 10480299\n",
            "--- Source-Copied Rows Deleted\t\t--> Rows: 10366982\n",
            "--- Too Long Source/Target Deleted\t--> Rows: 10046299\n",
            "--- HTML Removed\t\t\t--> Rows: 10046299\n",
            "--- Rows will remain in true-cased\t--> Rows: 10046299\n",
            "--- Rows with Empty Cells Deleted\t--> Rows: 10046187\n",
            "--- Rows Shuffled\t\t\t--> Rows: 10046187\n",
            "--- Source Saved: /content/en-fr-general.en-filtered.en\n",
            "--- Target Saved: /content/en-fr-general.fr-filtered.fr\n",
            "Dataframe shape (rows, columns): (1092568, 2)\n",
            "--- Rows with Empty Cells Deleted\t--> Rows: 1092512\n",
            "--- Duplicates Deleted\t\t\t--> Rows: 373224\n",
            "--- Source-Copied Rows Deleted\t\t--> Rows: 351721\n",
            "--- Too Long Source/Target Deleted\t--> Rows: 313322\n",
            "--- HTML Removed\t\t\t--> Rows: 313322\n",
            "--- Rows will remain in true-cased\t--> Rows: 313322\n",
            "--- Rows with Empty Cells Deleted\t--> Rows: 313240\n",
            "--- Rows Shuffled\t\t\t--> Rows: 313240\n",
            "--- Source Saved: /content/en-fr-medicine.en-filtered.en\n",
            "--- Target Saved: /content/en-fr-medicine.fr-filtered.fr\n",
            "Dataframe shape (rows, columns): (252306, 2)\n",
            "--- Rows with Empty Cells Deleted\t--> Rows: 252290\n",
            "--- Duplicates Deleted\t\t\t--> Rows: 55387\n",
            "--- Source-Copied Rows Deleted\t\t--> Rows: 52759\n",
            "--- Too Long Source/Target Deleted\t--> Rows: 51105\n",
            "--- HTML Removed\t\t\t--> Rows: 51105\n",
            "--- Rows will remain in true-cased\t--> Rows: 51105\n",
            "--- Rows with Empty Cells Deleted\t--> Rows: 51102\n",
            "--- Rows Shuffled\t\t\t--> Rows: 51102\n",
            "--- Source Saved: /content/en-fr-technology.en-filtered.en\n",
            "--- Target Saved: /content/en-fr-technology.fr-filtered.fr\n"
          ]
        }
      ]
    },
    {
      "cell_type": "code",
      "source": [
        "# customized from ymoslem's 1-train_unigram script: https://github.com/ymoslem/MT-Preparation/blob/main/subwording/1-train_unigram.py\n",
        "\n",
        "import sys\n",
        "import sentencepiece as spm\n",
        "\n",
        "def train_unigram(domain):\n",
        "  path = \"/content\"\n",
        "\n",
        "  train_source_file_tok = path + '/en-fr-' + domain + '.en-filtered.en'\n",
        "  train_target_file_tok = path + '/en-fr-' + domain + '.fr-filtered.fr'\n",
        "\n",
        "  # train sentencepiece model from the source and target files\n",
        "  # and create `source/target.model` and `source/target.vocab`\n",
        "  # `source/target.vocab` is just a reference, not used in the segmentation.\n",
        "\n",
        "  # Source subword model\n",
        "  source_train_value = '--input=' + train_source_file_tok + ' --model_prefix=source-' + domain + ' --vocab_size=50000 --hard_vocab_limit=false --split_digits=true'\n",
        "  spm.SentencePieceTrainer.train(source_train_value)\n",
        "  print(\"SentencePiece model training for the Source finished successfully!\")\n",
        "\n",
        "\n",
        "  # Target subword model\n",
        "  target_train_value = '--input=' + train_target_file_tok + ' --model_prefix=target-' + domain + ' --vocab_size=50000 --hard_vocab_limit=false --split_digits=true'\n",
        "  spm.SentencePieceTrainer.train(target_train_value)\n",
        "  print(\"SentencePiece model training for the Target finished successfully!\")"
      ],
      "metadata": {
        "id": "f9atLY1SEhWk"
      },
      "execution_count": null,
      "outputs": []
    },
    {
      "cell_type": "code",
      "source": [
        "# SentencePiece models for subword tokenization\n",
        "# note: to avoid surpassing Colab's RAM limits, you will likely need to complete this step on your local machine\n",
        "train_unigram('general')"
      ],
      "metadata": {
        "id": "vNZNyIAOjROA"
      },
      "execution_count": null,
      "outputs": []
    },
    {
      "cell_type": "code",
      "source": [
        "train_unigram('medicine')"
      ],
      "metadata": {
        "id": "97QcI9IaITiE",
        "colab": {
          "base_uri": "https://localhost:8080/"
        },
        "outputId": "32360145-9cf1-4ebf-d53b-e716c9f4eea7"
      },
      "execution_count": null,
      "outputs": [
        {
          "output_type": "stream",
          "name": "stdout",
          "text": [
            "SentencePiece model training for the Source finished successfully!\n",
            "SentencePiece model training for the Target finished successfully!\n"
          ]
        }
      ]
    },
    {
      "cell_type": "code",
      "source": [
        "train_unigram('technology')"
      ],
      "metadata": {
        "id": "4MFn7E7DIUTB",
        "colab": {
          "base_uri": "https://localhost:8080/"
        },
        "outputId": "c1c4eb24-dc2d-4a5e-9875-6d498bda5de3"
      },
      "execution_count": null,
      "outputs": [
        {
          "output_type": "stream",
          "name": "stdout",
          "text": [
            "SentencePiece model training for the Source finished successfully!\n",
            "SentencePiece model training for the Target finished successfully!\n"
          ]
        }
      ]
    },
    {
      "cell_type": "code",
      "source": [
        "# subword all (sub)corpora: general and domain-specific\n",
        "!python3 MT-Preparation/subwording/2-subword.py source-general.model target-general.model /content/en-fr-general.en-filtered.en /content/en-fr-general.fr-filtered.fr\n",
        "!python3 MT-Preparation/subwording/2-subword.py source-medicine.model target-medicine.model /content/en-fr-medicine.en-filtered.en /content/en-fr-medicine.fr-filtered.fr\n",
        "!python3 MT-Preparation/subwording/2-subword.py source-technology.model target-technology.model /content/en-fr-technology.en-filtered.en /content/en-fr-technology.fr-filtered.fr"
      ],
      "metadata": {
        "id": "GH4_xmGOkfEn",
        "colab": {
          "base_uri": "https://localhost:8080/"
        },
        "outputId": "1a2c1c5c-6cf6-4f65-d821-157ccecf19c6"
      },
      "execution_count": 5,
      "outputs": [
        {
          "output_type": "stream",
          "name": "stdout",
          "text": [
            "Source Model: source-general.model\n",
            "Target Model: target-general.model\n",
            "Source Dataset: /content/en-fr-general.en-filtered.en\n",
            "Target Dataset: /content/en-fr-general.fr-filtered.fr\n",
            "Done subwording the source file! Output: /content/en-fr-general.en-filtered.en.subword\n",
            "Done subwording the target file! Output: /content/en-fr-general.fr-filtered.fr.subword\n"
          ]
        }
      ]
    },
    {
      "cell_type": "code",
      "source": [
        "# general: first 3 lines before subwording\n",
        "!head -n 3 /content/en-fr-general.en-filtered.en && echo \"-----\" && head -n 3 /content/en-fr-general.fr-filtered.fr"
      ],
      "metadata": {
        "id": "VXHOzV3okqY1",
        "colab": {
          "base_uri": "https://localhost:8080/"
        },
        "outputId": "655ab881-a09c-4413-d2aa-bc09e6e8c6e0"
      },
      "execution_count": 6,
      "outputs": [
        {
          "output_type": "stream",
          "name": "stdout",
          "text": [
            "43 municipalities received a grant of up to NOK 100,000.\n",
            "The agreed conclusions have also facilitated the mainstreaming of a gender perspective in the work of the Council's functional commissions, and of other intergovernmental bodies.\n",
            "Encourages donor countries and multilateral and regional financial and development institutions, in particular the World Bank, the Asian Development Bank, the African Development Bank and the Inter-American Development Bank, to provide landlocked and transit developing countries with appropriate technical and financial assistance in the form of grants or concessionary loans for the implementation of the five priorities outlined in the Almaty Programme of Action,5 in particular for the construction, maintenance and improvement of their transport, storage and other transit-related facilities, including alternative routes and improved communications, to promote subregional, regional and interregional projects and programmes;\n",
            "-----\n",
            "Les municipalités, au nombre de 43, ont reçu une subvention pouvant atteindre 100 000 couronnes.\n",
            "Les conclusions concertées ont également facilité l'intégration d'une perspective sexospécifique dans les travaux des commissions fonctionnelles du Conseil et d'autres organes intergouvernementaux.\n",
            "Encourage les pays donateurs et les organismes multilatéraux et régionaux de financement et de développement, en particulier la Banque mondiale, la Banque asiatique de développement, la Banque africaine de développement et la Banque interaméricaine de développement, à apporter aux pays en développement sans littoral et de transit une assistance technique et financière suffisante, sous forme de dons ou de prêts concessionnels, pour leur permettre d'appliquer les cinq priorités énoncées dans le Programme d'action d'Almaty5, en particulier de créer, d'entretenir et d'améliorer leurs moyens de transport et d'entreposage et autres équipements liés au transit, notamment d'ouvrir des itinéraires de remplacement et d'améliorer les communications, pour favoriser la réalisation de projets et programmes régionaux, sous-régionaux et interrégionaux;\n"
          ]
        }
      ]
    },
    {
      "cell_type": "code",
      "source": [
        "# medicine\n",
        "!head -n 3 /content/en-fr-medicine.en-filtered.en && echo \"-----\" && head -n 3 /content/en-fr-medicine.fr-filtered.fr"
      ],
      "metadata": {
        "id": "bdqEyOzFAMo0",
        "colab": {
          "base_uri": "https://localhost:8080/"
        },
        "outputId": "45d6c9bf-c51b-4fb6-e419-9eb0d08d4852"
      },
      "execution_count": null,
      "outputs": [
        {
          "output_type": "stream",
          "name": "stdout",
          "text": [
            "White, oval tablets.\n",
            "Maintenance treatment:\n",
            "Concomitant use of sildenafil with ritonavir dosed as an antiretroviral agent or as a pharmacokinetic enhancer is not recommended and in no instance should sildenafil doses exceed 25 mg in 48 hours (see also section 4.4).\n",
            "-----\n",
            "75 mg: blanc, de forme ovale\n",
            "Traitement d'entretien:\n",
            "L’utilisation concomitante de sildénafil et de ritonavir administré à doses thérapeutiques ou comme potentialisateur pharmacocinétique n’est pas recommandée; en aucun cas, les doses de sildénafil ne doivent être supérieures à 2 5 mg sur 48 heures (voir également rubrique 4.4).\n"
          ]
        }
      ]
    },
    {
      "cell_type": "code",
      "source": [
        "# technology\n",
        "!head -n 3 /content/en-fr-technology.en-filtered.en && echo \"-----\" && head -n 3 /content/en-fr-technology.fr-filtered.fr"
      ],
      "metadata": {
        "id": "npdwzxqqAM3H",
        "colab": {
          "base_uri": "https://localhost:8080/"
        },
        "outputId": "7583e143-a7b0-4aec-dd18-87dceb367ee6"
      },
      "execution_count": null,
      "outputs": [
        {
          "output_type": "stream",
          "name": "stdout",
          "text": [
            "Removing leading '%s' from member names\n",
            "The width of the main window in pixels.\n",
            "Could not write pilot's Memo application block\n",
            "-----\n",
            "Suppression des '%s' en tête des noms de membre\n",
            "La largeur de la fenêtre principale, en pixels.\n",
            "Impossible d'écrire les données de l'application « Mémo » du pilot\n"
          ]
        }
      ]
    },
    {
      "cell_type": "code",
      "source": [
        "# general: after subwording\n",
        "!head -n 3 /content/en-fr-general.en-filtered.en.subword && echo \"-----\" && head -n 3 /content/en-fr-general.fr-filtered.fr.subword"
      ],
      "metadata": {
        "id": "yE66RXYgktVl",
        "colab": {
          "base_uri": "https://localhost:8080/"
        },
        "outputId": "d6357eee-e4a3-4b89-8241-218f3aefdabf"
      },
      "execution_count": 7,
      "outputs": [
        {
          "output_type": "stream",
          "name": "stdout",
          "text": [
            "▁ 4 3 ▁municipalities ▁received ▁a ▁grant ▁of ▁up ▁to ▁NOK ▁ 1 0 0 , 0 0 0 .\n",
            "▁The ▁agreed ▁conclusions ▁have ▁also ▁facilitated ▁the ▁mainstreaming ▁of ▁a ▁gender ▁perspective ▁in ▁the ▁work ▁of ▁the ▁Council ' s ▁functional ▁commissions , ▁and ▁of ▁other ▁in tergovernmental ▁bodies .\n",
            "▁Encourages ▁donor ▁countries ▁and ▁multilateral ▁and ▁regional ▁financial ▁and ▁development ▁institutions , ▁in ▁particular ▁the ▁World ▁Bank , ▁the ▁Asian ▁Development ▁Bank , ▁the ▁African ▁Development ▁Bank ▁and ▁the ▁Inter - American ▁Development ▁Bank , ▁to ▁provide ▁landlocked ▁and ▁transit ▁developing ▁countries ▁with ▁appropriate ▁technical ▁and ▁financial ▁assistance ▁in ▁the ▁form ▁of ▁grants ▁or ▁concessionary ▁loans ▁for ▁the ▁implementation ▁of ▁the ▁five ▁priorities ▁outlined ▁in ▁the ▁Almaty ▁Programme ▁of ▁Action , 5 ▁in ▁particular ▁for ▁the ▁construction , ▁maintenance ▁and ▁improvement ▁of ▁their ▁transport , ▁storage ▁and ▁other ▁transit - related ▁facilities , ▁including ▁alternative ▁routes ▁and ▁improved ▁communications , ▁to ▁promote ▁subregional , ▁regional ▁and ▁interregional ▁projects ▁and ▁programmes ;\n",
            "-----\n",
            "▁Les ▁municipalités , ▁au ▁nombre ▁de ▁ 4 3 , ▁ont ▁reçu ▁une ▁subvention ▁pouvant ▁atteindre ▁ 1 0 0 ▁ 0 0 0 ▁couronnes .\n",
            "▁Les ▁conclusions ▁concertées ▁ont ▁également ▁facilité ▁l ' intégration ▁d ' une ▁perspective ▁sexospécifique ▁dans ▁les ▁travaux ▁des ▁commissions ▁fonctionnelles ▁du ▁Conseil ▁et ▁d ' autres ▁organes ▁inter gouvernementaux .\n",
            "▁Encourage ▁les ▁pays ▁donateurs ▁et ▁les ▁organismes ▁multilatéraux ▁et ▁régionaux ▁de ▁financement ▁et ▁de ▁développement , ▁en ▁particulier ▁la ▁Banque ▁mondiale , ▁la ▁Banque ▁asiatique ▁de ▁développement , ▁la ▁Banque ▁africaine ▁de ▁développement ▁et ▁la ▁Banque ▁interaméricaine ▁de ▁développement , ▁à ▁apporter ▁aux ▁pays ▁en ▁développement ▁sans ▁littoral ▁et ▁de ▁transit ▁une ▁assistance ▁technique ▁et ▁financière ▁suffisante , ▁sous ▁forme ▁de ▁dons ▁ou ▁de ▁prêts ▁concessionnels , ▁pour ▁leur ▁permettre ▁d ' appliquer ▁les ▁cinq ▁priorités ▁énoncées ▁dans ▁le ▁Programme ▁d ' action ▁d ' Almaty 5 , ▁en ▁particulier ▁de ▁créer , ▁d ' entretenir ▁et ▁d ' améliorer ▁leurs ▁moyens ▁de ▁transport ▁et ▁d ' entreposage ▁et ▁autres ▁équipements ▁liés ▁au ▁transit , ▁notamment ▁d ' ouvrir ▁des ▁itinéraires ▁de ▁remplacement ▁et ▁d ' améliorer ▁les ▁communications , ▁pour ▁favoriser ▁la ▁réalisation ▁de ▁projets ▁et ▁programmes ▁régionaux , ▁sous - régionaux ▁et ▁interrégionaux ;\n"
          ]
        }
      ]
    },
    {
      "cell_type": "code",
      "source": [
        "# medicine\n",
        "!head -n 3 /content/en-fr-medicine.en-filtered.en.subword && echo \"-----\" && head -n 3 /content/en-fr-medicine.fr-filtered.fr.subword"
      ],
      "metadata": {
        "id": "eTzBcEh6AZMd",
        "colab": {
          "base_uri": "https://localhost:8080/"
        },
        "outputId": "bf2cccbf-9df2-4b5d-e369-05851cbcd6d6"
      },
      "execution_count": null,
      "outputs": [
        {
          "output_type": "stream",
          "name": "stdout",
          "text": [
            "▁White , ▁oval ▁tablets .\n",
            "▁Maintenance ▁treatment :\n",
            "▁Concomitant ▁use ▁of ▁sildenafil ▁with ▁ritonavir ▁dosed ▁as ▁an ▁antiretroviral ▁agent ▁or ▁as ▁a ▁pharmacokinetic ▁enhancer ▁is ▁not ▁recommended ▁and ▁in ▁no ▁instance ▁should ▁sildenafil ▁doses ▁exceed ▁ 2 5 ▁mg ▁in ▁ 4 8 ▁hours ▁( see ▁also ▁section ▁ 4 . 4 ).\n",
            "-----\n",
            "▁ 7 5 ▁mg : ▁blanc , ▁de ▁forme ▁ovale\n",
            "▁Traitement ▁d ' entretien :\n",
            "▁L ’ utilisation ▁concomitante ▁de ▁sildénafil ▁et ▁de ▁ritonavir ▁administré ▁à ▁doses ▁thérapeutiques ▁ou ▁comme ▁potentialisat eur ▁p harmacocinétique ▁n ’ est ▁pas ▁recommandée ; ▁en ▁aucun ▁cas , ▁les ▁doses ▁de ▁sildénafil ▁ne ▁doivent ▁être ▁supérieures ▁à ▁ 2 ▁ 5 ▁mg ▁sur ▁ 4 8 ▁heures ▁( voir ▁également ▁rubrique ▁ 4 . 4 ).\n"
          ]
        }
      ]
    },
    {
      "cell_type": "code",
      "source": [
        "# technology\n",
        "!head -n 3 /content/en-fr-technology.en-filtered.en.subword && echo \"-----\" && head -n 3 /content/en-fr-technology.fr-filtered.fr.subword"
      ],
      "metadata": {
        "id": "qqNNUWmkAZRy",
        "colab": {
          "base_uri": "https://localhost:8080/"
        },
        "outputId": "7e30603c-8530-4b97-b5f9-b2ad2df1ac29"
      },
      "execution_count": null,
      "outputs": [
        {
          "output_type": "stream",
          "name": "stdout",
          "text": [
            "▁Removing ▁lead ing ▁'% s ' ▁from ▁member ▁names\n",
            "▁The ▁width ▁of ▁the ▁main ▁window ▁in ▁pixels .\n",
            "▁Could ▁not ▁write ▁ pilot ' s ▁Memo ▁application ▁block\n",
            "-----\n",
            "▁Suppression ▁des ▁'% s ' ▁en ▁tête ▁des ▁noms ▁de ▁membre\n",
            "▁La ▁largeur ▁de ▁la ▁fenêtre ▁principale , ▁en ▁pixels .\n",
            "▁Impossib le ▁d ' écrire ▁les ▁données ▁de ▁l ' application ▁« ▁Mémo ▁» ▁du ▁pilot\n"
          ]
        }
      ]
    },
    {
      "cell_type": "code",
      "source": [
        "# split dataset into training, development and test sets\n",
        "# dev and test sets should be 1000-5000 segments: here we use 3000 since our dataset is slightly larger than the one used in the example\n",
        "!python MT-Preparation/train_dev_split/train_dev_test_split.py 3000 3000 /content/en-fr-general.en-filtered.en.subword /content/en-fr-general.fr-filtered.fr.subword\n",
        "!python MT-Preparation/train_dev_split/train_dev_test_split.py 3000 3000 /content/en-fr-medicine.en-filtered.en.subword /content/en-fr-medicine.fr-filtered.fr.subword\n",
        "!python MT-Preparation/train_dev_split/train_dev_test_split.py 3000 3000 /content/en-fr-technology.en-filtered.en.subword /content/en-fr-technology.fr-filtered.fr.subword"
      ],
      "metadata": {
        "id": "buxggI-Yk3Yt",
        "colab": {
          "base_uri": "https://localhost:8080/"
        },
        "outputId": "02771462-5a23-4a12-c6dd-b1f31197bcde"
      },
      "execution_count": 8,
      "outputs": [
        {
          "output_type": "stream",
          "name": "stdout",
          "text": [
            "Dataframe shape: (470832, 2)\n",
            "--- Empty Cells Deleted --> Rows: 430418\n",
            "--- Wrote Files\n",
            "Done!\n",
            "Output files\n",
            "/content/en-fr-general.en-filtered.en.subword.train\n",
            "/content/en-fr-general.fr-filtered.fr.subword.train\n",
            "/content/en-fr-general.en-filtered.en.subword.dev\n",
            "/content/en-fr-general.fr-filtered.fr.subword.dev\n",
            "/content/en-fr-general.en-filtered.en.subword.test\n",
            "/content/en-fr-general.fr-filtered.fr.subword.test\n"
          ]
        }
      ]
    },
    {
      "cell_type": "code",
      "source": [
        "# line count for subworded train, dev, test sets\n",
        "!wc -l /content/*.subword.*"
      ],
      "metadata": {
        "id": "ULlUFocelWQO",
        "colab": {
          "base_uri": "https://localhost:8080/"
        },
        "outputId": "0c16522f-9259-4b87-dc9b-ff7f3894a497"
      },
      "execution_count": null,
      "outputs": [
        {
          "output_type": "stream",
          "name": "stdout",
          "text": [
            "     3000 /content/en-fr-medicine.en-filtered.en.subword.dev\n",
            "     3000 /content/en-fr-medicine.en-filtered.en.subword.test\n",
            "   307240 /content/en-fr-medicine.en-filtered.en.subword.train\n",
            "     3000 /content/en-fr-medicine.fr-filtered.fr.subword.dev\n",
            "     3000 /content/en-fr-medicine.fr-filtered.fr.subword.test\n",
            "   307240 /content/en-fr-medicine.fr-filtered.fr.subword.train\n",
            "     3000 /content/en-fr-technology.en-filtered.en.subword.dev\n",
            "     3000 /content/en-fr-technology.en-filtered.en.subword.test\n",
            "    45102 /content/en-fr-technology.en-filtered.en.subword.train\n",
            "     3000 /content/en-fr-technology.fr-filtered.fr.subword.dev\n",
            "     3000 /content/en-fr-technology.fr-filtered.fr.subword.test\n",
            "    45102 /content/en-fr-technology.fr-filtered.fr.subword.train\n",
            "   728684 total\n"
          ]
        }
      ]
    },
    {
      "cell_type": "code",
      "source": [
        "# Check the first and last line from each dataset\n",
        "\n",
        "!echo \"---First line---\"\n",
        "!head -n 1 /content/*.{train,dev,test}\n",
        "\n",
        "!echo -e \"\\n---Last line---\"\n",
        "!tail -n 1 /content/*.{train,dev,test}"
      ],
      "metadata": {
        "id": "rSpk7yq-lbPd",
        "colab": {
          "base_uri": "https://localhost:8080/"
        },
        "outputId": "37895ac6-e204-4fe7-8cd5-c41c1abcaac3"
      },
      "execution_count": null,
      "outputs": [
        {
          "output_type": "stream",
          "name": "stdout",
          "text": [
            "---First line---\n",
            "==> /content/en-fr-medicine.en-filtered.en.subword.train <==\n",
            "▁White , ▁oval ▁tablets .\n",
            "\n",
            "==> /content/en-fr-medicine.fr-filtered.fr.subword.train <==\n",
            "▁ 7 5 ▁mg : ▁blanc , ▁de ▁forme ▁ovale\n",
            "\n",
            "==> /content/en-fr-technology.en-filtered.en.subword.train <==\n",
            "▁Removing ▁lead ing ▁'% s ' ▁from ▁member ▁names\n",
            "\n",
            "==> /content/en-fr-technology.fr-filtered.fr.subword.train <==\n",
            "▁Suppression ▁des ▁'% s ' ▁en ▁tête ▁des ▁noms ▁de ▁membre\n",
            "\n",
            "==> /content/en-fr-medicine.en-filtered.en.subword.dev <==\n",
            "▁Connect ▁the ▁syringe ▁on to ▁the ▁Bioset ® ▁by ▁twisting ▁it .\n",
            "\n",
            "==> /content/en-fr-medicine.fr-filtered.fr.subword.dev <==\n",
            "▁Fix er ▁la ▁seringue ▁sur ▁le ▁Bioset ® ▁en ▁la ▁tournant .\n",
            "\n",
            "==> /content/en-fr-technology.en-filtered.en.subword.dev <==\n",
            "▁Download ▁and ▁import ▁music ▁purchase d ▁from ▁Amazon . com .\n",
            "\n",
            "==> /content/en-fr-technology.fr-filtered.fr.subword.dev <==\n",
            "▁Télécharger ▁et ▁importer ▁de ▁la ▁musique ▁achetée ▁ chez ▁Amazon . com .\n",
            "\n",
            "==> /content/en-fr-medicine.en-filtered.en.subword.test <==\n",
            "▁However , ▁the ▁time ▁taken ▁for ▁the ▁disease ▁to ▁get ▁worse ▁after ▁treatment ▁was ▁the ▁same ▁in ▁both ▁groups ▁( about ▁ 1 0 ▁months ).\n",
            "\n",
            "==> /content/en-fr-medicine.fr-filtered.fr.subword.test <==\n",
            "▁Cependant , ▁le ▁temps ▁nécessaire ▁à ▁l ’ ▁aggravation ▁de ▁la ▁maladie ▁après ▁le ▁traitement ▁était ▁le ▁même ▁dans ▁les ▁deux ▁groupes ▁( environ ▁ 1 0 ▁mois ).\n",
            "\n",
            "==> /content/en-fr-technology.en-filtered.en.subword.test <==\n",
            "▁Create ▁a ▁new ▁meeting ▁request\n",
            "\n",
            "==> /content/en-fr-technology.fr-filtered.fr.subword.test <==\n",
            "▁Crée ▁une ▁nouvelle ▁demande ▁de ▁réunion\n",
            "\n",
            "---Last line---\n",
            "==> /content/en-fr-medicine.en-filtered.en.subword.train <==\n",
            "▁CONDITIONS ▁OR ▁RESTRICTION S ▁OF ▁THE ▁MARKET ING ▁AUTHORISATION ▁WITH ▁REGARD ▁TO ▁THE ▁SAFE ▁AND ▁EFFECT IVE ▁USE ▁OF ▁THE ▁PRODUCT\n",
            "\n",
            "==> /content/en-fr-medicine.fr-filtered.fr.subword.train <==\n",
            "▁CONDITIONS ▁OU ▁RESTRICTIONS ▁RELATIVE S ▁À ▁L ' AUTORISATION ▁DE ▁MISE ▁SUR ▁LE ▁MARCHÉ ▁POUR ▁ UNE ▁UTILISATION ▁S Û RE ▁ET ▁EFFICACE\n",
            "\n",
            "==> /content/en-fr-technology.en-filtered.en.subword.train <==\n",
            "▁ Encapsulate d ▁PostScript ▁( using ▁Pango ▁fonts )\n",
            "\n",
            "==> /content/en-fr-technology.fr-filtered.fr.subword.train <==\n",
            "▁PostScript ▁encapsulé ▁( E PS ) ▁utilisant ▁les ▁polices ▁Pango\n",
            "\n",
            "==> /content/en-fr-medicine.en-filtered.en.subword.dev <==\n",
            "▁MabCampath ▁ 1 0 ▁mg / ▁ml ▁concentrate ▁for ▁solution ▁for ▁infusion ▁Alemtuzumab\n",
            "\n",
            "==> /content/en-fr-medicine.fr-filtered.fr.subword.dev <==\n",
            "▁MabCampath ▁ 1 0 ▁mg / ml , ▁solution ▁à ▁diluer ▁pour ▁perfusion ▁Alemtuzumab\n",
            "\n",
            "==> /content/en-fr-technology.en-filtered.en.subword.dev <==\n",
            "▁You ▁need ▁to ▁provide ▁the ▁path ▁to ▁the ▁mail ▁directory ▁you ▁want ▁to ▁use .\n",
            "\n",
            "==> /content/en-fr-technology.fr-filtered.fr.subword.dev <==\n",
            "▁Vou s ▁devez ▁fournir ▁le ▁chemin ▁vers ▁le ▁répertoire ▁que ▁vous ▁voulez ▁utiliser ▁pour ▁vo s ▁courriels .\n",
            "\n",
            "==> /content/en-fr-medicine.en-filtered.en.subword.test <==\n",
            "▁Do ▁not ▁use ▁after ▁the ▁expiry ▁date ▁stated ▁on ▁the ▁carton ▁and ▁bag .\n",
            "\n",
            "==> /content/en-fr-medicine.fr-filtered.fr.subword.test <==\n",
            "▁Ne ▁pas ▁utiliser ▁après ▁la ▁date ▁de ▁péremption ▁figura nt ▁sur ▁le ▁carton ▁et ▁le ▁sachet .\n",
            "\n",
            "==> /content/en-fr-technology.en-filtered.en.subword.test <==\n",
            "▁You ▁can ▁choose ▁different ▁difficult y ▁levels ▁mak ing ▁gbrainy ▁enjoy able ▁for ▁kids , ▁a d ults ▁or ▁sen ior ▁citizens . ▁It ▁also ▁features ▁a ▁game ▁history , ▁personal ▁records , ▁tips ▁and ▁fullscreen ▁mode ▁support . ▁gbrainy ▁can ▁also ▁be ▁extend ed ▁easily ▁with ▁new ▁games ▁developed ▁by ▁third ▁part ies .\n",
            "\n",
            "==> /content/en-fr-technology.fr-filtered.fr.subword.test <==\n",
            "▁Vou s ▁pouvez ▁choisir ▁parmi ▁différents ▁ niveaux ▁de ▁difficulté ▁a fin ▁de ▁rendre ▁gbrainy ▁amusant ▁pour ▁les ▁enfants , ▁les ▁a dul tes ▁ou ▁les ▁personnes ▁plus ▁âgées . ▁Il ▁présente ▁également ▁un ▁historique ▁des ▁jeux , ▁les ▁record s ▁personnels , ▁des ▁astuces ▁et ▁une ▁prise ▁en ▁charge ▁de ▁l ' affichage ▁plein ▁écran . ▁gbrainy ▁peut ▁également ▁être ▁facilement ▁étendu ▁avec ▁de ▁nouveaux ▁jeux ▁développés ▁par ▁des ▁tiers .\n"
          ]
        }
      ]
    },
    {
      "cell_type": "code",
      "source": [
        "# move data to Google Drive\n",
        "from google.colab import drive\n",
        "drive.mount('/content/drive')\n",
        "\n",
        "%cd ..\n",
        "!mv /content/nmt-tools /content/drive/MyDrive/domain-adapted-nmt/"
      ],
      "metadata": {
        "id": "AqRHQNWOld-_",
        "colab": {
          "base_uri": "https://localhost:8080/"
        },
        "outputId": "c9faadbe-6ebe-4c13-c179-d4bcab395176"
      },
      "execution_count": null,
      "outputs": [
        {
          "output_type": "stream",
          "name": "stdout",
          "text": [
            "Drive already mounted at /content/drive; to attempt to forcibly remount, call drive.mount(\"/content/drive\", force_remount=True).\n",
            "/\n"
          ]
        }
      ]
    },
    {
      "cell_type": "code",
      "source": [
        "# move processed corpora files to Google Drive\n",
        "# only mount Drive here if it was not already mounted previously\n",
        "\n",
        "# from google.colab import drive\n",
        "# drive.mount('/content/drive')\n",
        "\n",
        "!mv /content/en-fr-* /content/drive/MyDrive/domain-adapted-nmt/corpora/enfr"
      ],
      "metadata": {
        "id": "RP6iLw4PGGBK"
      },
      "execution_count": null,
      "outputs": []
    }
  ]
}