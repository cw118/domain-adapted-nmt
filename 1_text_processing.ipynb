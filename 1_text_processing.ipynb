{
  "nbformat": 4,
  "nbformat_minor": 0,
  "metadata": {
    "colab": {
      "provenance": [],
      "gpuType": "T4",
      "authorship_tag": "ABX9TyPOxBiN7xl2yc4Taej1bJIJ",
      "include_colab_link": true
    },
    "kernelspec": {
      "name": "python3",
      "display_name": "Python 3"
    },
    "language_info": {
      "name": "python"
    },
    "accelerator": "GPU"
  },
  "cells": [
    {
      "cell_type": "markdown",
      "metadata": {
        "id": "view-in-github",
        "colab_type": "text"
      },
      "source": [
        "<a href=\"https://colab.research.google.com/github/cw118/domain-adapted-nmt/blob/main/1_text_processing.ipynb\" target=\"_parent\"><img src=\"https://colab.research.google.com/assets/colab-badge.svg\" alt=\"Open In Colab\"/></a>"
      ]
    },
    {
      "cell_type": "markdown",
      "source": [
        "# Domain-adapted NMT\n",
        "\n",
        "## Text classification and processing"
      ],
      "metadata": {
        "id": "n76XsXcn1dM1"
      }
    },
    {
      "cell_type": "code",
      "source": [
        "!pip install opustools[all]"
      ],
      "metadata": {
        "colab": {
          "base_uri": "https://localhost:8080/"
        },
        "id": "lLU7Z1oEEiY2",
        "outputId": "5201ca17-a1cb-4bd0-8c6a-03d54dd47387"
      },
      "execution_count": 1,
      "outputs": [
        {
          "output_type": "stream",
          "name": "stdout",
          "text": [
            "Collecting opustools[all]\n",
            "  Downloading opustools-1.6.1-py3-none-any.whl (18.3 MB)\n",
            "\u001b[2K     \u001b[90m━━━━━━━━━━━━━━━━━━━━━━━━━━━━━━━━━━━━━━━━\u001b[0m \u001b[32m18.3/18.3 MB\u001b[0m \u001b[31m8.8 MB/s\u001b[0m eta \u001b[36m0:00:00\u001b[0m\n",
            "\u001b[?25hCollecting ruamel.yaml (from opustools[all])\n",
            "  Downloading ruamel.yaml-0.18.5-py3-none-any.whl (116 kB)\n",
            "\u001b[2K     \u001b[90m━━━━━━━━━━━━━━━━━━━━━━━━━━━━━━━━━━━━━━━━\u001b[0m \u001b[32m116.4/116.4 kB\u001b[0m \u001b[31m2.8 MB/s\u001b[0m eta \u001b[36m0:00:00\u001b[0m\n",
            "\u001b[?25hCollecting pycld2 (from opustools[all])\n",
            "  Downloading pycld2-0.41.tar.gz (41.4 MB)\n",
            "\u001b[2K     \u001b[90m━━━━━━━━━━━━━━━━━━━━━━━━━━━━━━━━━━━━━━━━\u001b[0m \u001b[32m41.4/41.4 MB\u001b[0m \u001b[31m7.7 MB/s\u001b[0m eta \u001b[36m0:00:00\u001b[0m\n",
            "\u001b[?25h  Preparing metadata (setup.py) ... \u001b[?25l\u001b[?25hdone\n",
            "Collecting langid (from opustools[all])\n",
            "  Downloading langid-1.1.6.tar.gz (1.9 MB)\n",
            "\u001b[2K     \u001b[90m━━━━━━━━━━━━━━━━━━━━━━━━━━━━━━━━━━━━━━━━\u001b[0m \u001b[32m1.9/1.9 MB\u001b[0m \u001b[31m52.4 MB/s\u001b[0m eta \u001b[36m0:00:00\u001b[0m\n",
            "\u001b[?25h  Preparing metadata (setup.py) ... \u001b[?25l\u001b[?25hdone\n",
            "Requirement already satisfied: numpy in /usr/local/lib/python3.10/dist-packages (from langid->opustools[all]) (1.23.5)\n",
            "Collecting ruamel.yaml.clib>=0.2.7 (from ruamel.yaml->opustools[all])\n",
            "  Downloading ruamel.yaml.clib-0.2.8-cp310-cp310-manylinux_2_17_x86_64.manylinux2014_x86_64.manylinux_2_24_x86_64.whl (526 kB)\n",
            "\u001b[2K     \u001b[90m━━━━━━━━━━━━━━━━━━━━━━━━━━━━━━━━━━━━━━━━\u001b[0m \u001b[32m526.7/526.7 kB\u001b[0m \u001b[31m12.2 MB/s\u001b[0m eta \u001b[36m0:00:00\u001b[0m\n",
            "\u001b[?25hBuilding wheels for collected packages: langid, pycld2\n",
            "  Building wheel for langid (setup.py) ... \u001b[?25l\u001b[?25hdone\n",
            "  Created wheel for langid: filename=langid-1.1.6-py3-none-any.whl size=1941172 sha256=0cc87bf75a6ad0f838f72c7e146bf6dd82541e9af8a71ae604e472b617d9dcd2\n",
            "  Stored in directory: /root/.cache/pip/wheels/23/c8/c6/eed80894918490a175677414d40bd7c851413bbe03d4856c3c\n",
            "  Building wheel for pycld2 (setup.py) ... \u001b[?25l\u001b[?25hdone\n",
            "  Created wheel for pycld2: filename=pycld2-0.41-cp310-cp310-linux_x86_64.whl size=9904061 sha256=5ac21a6d4f232aeecb3fcf9337395cb43e9303e97c95f2b3b45e424166cb6c9f\n",
            "  Stored in directory: /root/.cache/pip/wheels/be/81/31/240c89c845e008a93d98542325270007de595bfd356eb0b06c\n",
            "Successfully built langid pycld2\n",
            "Installing collected packages: pycld2, ruamel.yaml.clib, langid, ruamel.yaml, opustools\n",
            "Successfully installed langid-1.1.6 opustools-1.6.1 pycld2-0.41 ruamel.yaml-0.18.5 ruamel.yaml.clib-0.2.8\n"
          ]
        }
      ]
    },
    {
      "cell_type": "code",
      "source": [
        "!opus_get --source en --target de --list_corpora"
      ],
      "metadata": {
        "colab": {
          "base_uri": "https://localhost:8080/"
        },
        "id": "xlOD_dLXHfHY",
        "outputId": "e4b795db-0c81-41a8-f2f4-886be334e93d"
      },
      "execution_count": 6,
      "outputs": [
        {
          "output_type": "stream",
          "name": "stdout",
          "text": [
            "bible-uedin, Books, CCAligned, CCMatrix, DGT, ECB, ECDC, ELITR-ECA, ELRA-W0143, ELRA-W0201, ELRA-W0301, ELRC-1077-EUIPO_law, ELRC-1086-Information_Portal_G, ELRC-1088-German_Foreign_Offic, ELRC-1089-German_Foreign_Offic, ELRC-1090-German_Foreign_Offic, ELRC-1092-EUIPO_list, ELRC-1117-CORDIS_News, ELRC-1121-CORDIS_Results_Brief, ELRC-1238-Energy_Report_City, ELRC-1240-Austrian_Research_Te, ELRC-1241-2017_Activity_Report, ELRC-1243-Vienna_Environmental, ELRC-2014-EUIPO_2017, ELRC-2410-Portal_oficial_turis, ELRC-2612-Artigos_visitportuga, ELRC-2614-Localidades_2007, ELRC-2616-Museus_2007, ELRC-2622-Arquitectura_2007, ELRC-2623-Patrimnio_Aores_2006, ELRC-2638-monumentos_2007, ELRC-2639-Parques_e_reservas, ELRC-2641-Praias_2007, ELRC_2682, ELRC-2714-EMEA, ELRC-2736-vaccination, ELRC-2875-EU_publications_medi, ELRC_2922, ELRC_2923, ELRC-3063-wikipedia_health, ELRC-3202-antibiotic, ELRC-3293-EUROPARL_covid, ELRC_3382, ELRC-3464-EC_EUROPA_covid, ELRC-3565-EUR_LEX_covid, ELRC-3606-presscorner_covid, ELRC-3852-Development_Funds_Re, ELRC-401-Swedish_Labour_Part2, ELRC-403-Rights_Arrested, ELRC-406-Swedish_Labour_Part1, ELRC-416-Swedish_Social_Secur, ELRC-417-Swedish_Work_Environ, ELRC-4992-Customer_Support_MT, ELRC-5067-SciPar, ELRC-5220-Information_crime_vi, ELRC-621-Federal_Constitution, ELRC-630-BMVI_Publications, ELRC-631-BMVI_Website, ELRC-632-BMI_Brochure_Civil, ELRC-633-BMI_Brochures_2016, ELRC-634-BMI_Brochures_2011, ELRC-637-SIP, ELRC-638-Luxembourg.lu, ELRC-642-Federal_Foreign_Berl, ELRC-774-Presidency, ELRC-775-by_Presidency_Counci, ELRC-776-by_Presidency_Counci, ELRC-832-CHARTER_VALUES_CITIZ, ELRC-antibiotic, ELRC-Arquitectura_2007, ELRC-Artigos_visitportuga, ELRC-CORDIS_News, ELRC-CORDIS_Results, ELRC-EC_EUROPA, ELRC-EMEA, ELRC-EUIPO_2017, ELRC-EUIPO_law, ELRC-EUIPO_list, ELRC-EU_publications, ELRC-EUR_LEX, ELRC-EUROPARL_covid, ELRC-Information_Portal, ELRC-Localidades_2007, ELRC-Museus_2007, ELRC-Parques_e, ELRC-Patrimnio_Aores, ELRC-Praias_2007, ELRC-presscorner_covid, ELRC-Swedish_Labour, ELRC-TERMITUR, ELRC-vaccination, ELRC-wikipedia_health, EMEA, EUbookshop, EUconst, Europarl, EuroPat, GlobalVoices, GNOME, JRC-Acquis, KDE4, LinguaTools-WikiTitles, Mozilla-I10n, MultiUN, NeuLab-TedTalks, News-Commentary, NLLB, OpenOffice, OpenSubtitles, ParaCrawl, PHP, QED, RF, Salome, Tanzil, Tatoeba, TED2013, TED2020, TildeMODEL, tldr-pages, Ubuntu, WikiMatrix, wikimedia, Wikipedia, WikiTitles, WMT-News, XLEnt\n"
          ]
        }
      ]
    },
    {
      "cell_type": "code",
      "source": [
        "# retrieve PHP manual localized files corpus\n",
        "!opus_read --directory PHP \\\n",
        "    --source en \\\n",
        "    --target de \\\n",
        "    --preprocess moses \\\n",
        "    --write en-de-technology.en en-de-technology.de"
      ],
      "metadata": {
        "colab": {
          "base_uri": "https://localhost:8080/"
        },
        "id": "-UpHsEqkGDsF",
        "outputId": "c8a1b271-0396-4b42-bfa1-760ae24cfae2"
      },
      "execution_count": 4,
      "outputs": [
        {
          "output_type": "stream",
          "name": "stdout",
          "text": [
            "Moses files written to ./en-de-technology.en, ./en-de-technology.de\n"
          ]
        }
      ]
    },
    {
      "cell_type": "code",
      "source": [
        "# retrieve EMEA corpus\n",
        "!opus_read --directory EMEA \\\n",
        "    --source en \\\n",
        "    --target de \\\n",
        "    --preprocess moses \\\n",
        "    --write en-de-medicine.en en-de-medicine.de"
      ],
      "metadata": {
        "colab": {
          "base_uri": "https://localhost:8080/"
        },
        "outputId": "bab10ff9-3413-430f-f96b-d4afa5076774",
        "id": "_WzLEW-6-nJz"
      },
      "execution_count": 5,
      "outputs": [
        {
          "output_type": "stream",
          "name": "stdout",
          "text": [
            "The following files are available for downloading:\n",
            "\n",
            "  35 MB https://object.pouta.csc.fi/OPUS-EMEA/v3/moses/de-en.txt.zip | 1108752 alignment pairs, 10979503 source tokens, 12322425 target tokens (id 80562)\n",
            "\n",
            "  35 MB Total size\n",
            "Downloading 1 file(s) with the total size of 35 MB. Continue? (y/n) y\n",
            "./EMEA_latest_moses_de-en.txt.zip ... 100% of 35 MB\n",
            "Moses files written to ./en-de-medicine.en, ./en-de-medicine.de\n"
          ]
        }
      ]
    },
    {
      "cell_type": "code",
      "source": [
        "# retrieve MultiUN (United Nations multilingual) corpus\n",
        "!opus_read --directory MultiUN \\\n",
        "    --source en \\\n",
        "    --target de \\\n",
        "    --preprocess moses \\\n",
        "    --write en-de-general.en en-de-general.de"
      ],
      "metadata": {
        "colab": {
          "base_uri": "https://localhost:8080/"
        },
        "outputId": "ca71ac2f-afdd-4e34-a698-70f3c61b15a5",
        "id": "n6n0ur4Z-nR8"
      },
      "execution_count": 6,
      "outputs": [
        {
          "output_type": "stream",
          "name": "stdout",
          "text": [
            "The following files are available for downloading:\n",
            "\n",
            "  19 MB https://object.pouta.csc.fi/OPUS-MultiUN/v1/moses/de-en.txt.zip | 162981 alignment pairs, 4847963 source tokens, 5340061 target tokens (id 260910)\n",
            "\n",
            "  19 MB Total size\n",
            "Downloading 1 file(s) with the total size of 19 MB. Continue? (y/n) y\n",
            "./MultiUN_latest_moses_de-en.txt.zip ... 100% of 19 MB\n",
            "Moses files written to ./en-de-general.en, ./en-de-general.de\n"
          ]
        }
      ]
    },
    {
      "cell_type": "code",
      "source": [
        "# run MT prep scripts\n",
        "!mkdir nmt\n",
        "%cd nmt\n",
        "!git clone https://github.com/ymoslem/MT-Preparation.git"
      ],
      "metadata": {
        "colab": {
          "base_uri": "https://localhost:8080/"
        },
        "id": "kDsPDDipLKLb",
        "outputId": "0f0ad65c-fefc-49ab-8b75-53758618a71f"
      },
      "execution_count": 7,
      "outputs": [
        {
          "output_type": "stream",
          "name": "stdout",
          "text": [
            "/content/nmt\n",
            "Cloning into 'MT-Preparation'...\n",
            "remote: Enumerating objects: 268, done.\u001b[K\n",
            "remote: Counting objects: 100% (268/268), done.\u001b[K\n",
            "remote: Compressing objects: 100% (159/159), done.\u001b[K\n",
            "remote: Total 268 (delta 133), reused 189 (delta 97), pack-reused 0\u001b[K\n",
            "Receiving objects: 100% (268/268), 69.06 KiB | 1.10 MiB/s, done.\n",
            "Resolving deltas: 100% (133/133), done.\n"
          ]
        }
      ]
    },
    {
      "cell_type": "code",
      "source": [
        "!pip3 install -r MT-Preparation/requirements.txt"
      ],
      "metadata": {
        "colab": {
          "base_uri": "https://localhost:8080/"
        },
        "id": "mBuvjRcFLKzb",
        "outputId": "386f886f-ae24-4e4d-d836-a84b18ee5dbd"
      },
      "execution_count": 8,
      "outputs": [
        {
          "output_type": "stream",
          "name": "stdout",
          "text": [
            "Requirement already satisfied: numpy in /usr/local/lib/python3.10/dist-packages (from -r MT-Preparation/requirements.txt (line 1)) (1.23.5)\n",
            "Requirement already satisfied: pandas in /usr/local/lib/python3.10/dist-packages (from -r MT-Preparation/requirements.txt (line 2)) (1.5.3)\n",
            "Collecting sentencepiece (from -r MT-Preparation/requirements.txt (line 3))\n",
            "  Downloading sentencepiece-0.1.99-cp310-cp310-manylinux_2_17_x86_64.manylinux2014_x86_64.whl (1.3 MB)\n",
            "\u001b[2K     \u001b[90m━━━━━━━━━━━━━━━━━━━━━━━━━━━━━━━━━━━━━━━━\u001b[0m \u001b[32m1.3/1.3 MB\u001b[0m \u001b[31m9.9 MB/s\u001b[0m eta \u001b[36m0:00:00\u001b[0m\n",
            "\u001b[?25hRequirement already satisfied: python-dateutil>=2.8.1 in /usr/local/lib/python3.10/dist-packages (from pandas->-r MT-Preparation/requirements.txt (line 2)) (2.8.2)\n",
            "Requirement already satisfied: pytz>=2020.1 in /usr/local/lib/python3.10/dist-packages (from pandas->-r MT-Preparation/requirements.txt (line 2)) (2023.3.post1)\n",
            "Requirement already satisfied: six>=1.5 in /usr/local/lib/python3.10/dist-packages (from python-dateutil>=2.8.1->pandas->-r MT-Preparation/requirements.txt (line 2)) (1.16.0)\n",
            "Installing collected packages: sentencepiece\n",
            "Successfully installed sentencepiece-0.1.99\n"
          ]
        }
      ]
    },
    {
      "cell_type": "code",
      "source": [
        "# filter datasets: general, medicine and technology\n",
        "# Arguments: source file, target file, source language, target language\n",
        "!python3 MT-Preparation/filtering/filter.py /content/en-de-general.en /content/en-de-general.de en de\n",
        "!python3 MT-Preparation/filtering/filter.py /content/en-de-medicine.en /content/en-de-medicine.de en de\n",
        "!python3 MT-Preparation/filtering/filter.py /content/en-de-technology.en /content/en-de-technology.de en de"
      ],
      "metadata": {
        "colab": {
          "base_uri": "https://localhost:8080/"
        },
        "id": "Qq0y93Q9ic_P",
        "outputId": "b317132f-c14a-4261-e805-17533308cd9b"
      },
      "execution_count": 9,
      "outputs": [
        {
          "output_type": "stream",
          "name": "stdout",
          "text": [
            "Dataframe shape (rows, columns): (162981, 2)\n",
            "--- Rows with Empty Cells Deleted\t--> Rows: 162981\n",
            "--- Duplicates Deleted\t\t\t--> Rows: 127388\n",
            "--- Source-Copied Rows Deleted\t\t--> Rows: 126267\n",
            "--- Too Long Source/Target Deleted\t--> Rows: 124047\n",
            "--- HTML Removed\t\t\t--> Rows: 124047\n",
            "--- Rows will remain in true-cased\t--> Rows: 124047\n",
            "--- Rows with Empty Cells Deleted\t--> Rows: 124047\n",
            "--- Rows Shuffled\t\t\t--> Rows: 124047\n",
            "--- Source Saved: /content/en-de-general.en-filtered.en\n",
            "--- Target Saved: /content/en-de-general.de-filtered.de\n",
            "Dataframe shape (rows, columns): (1108752, 2)\n",
            "--- Rows with Empty Cells Deleted\t--> Rows: 1108674\n",
            "--- Duplicates Deleted\t\t\t--> Rows: 364133\n",
            "--- Source-Copied Rows Deleted\t\t--> Rows: 348506\n",
            "--- Too Long Source/Target Deleted\t--> Rows: 297942\n",
            "--- HTML Removed\t\t\t--> Rows: 297942\n",
            "--- Rows will remain in true-cased\t--> Rows: 297942\n",
            "--- Rows with Empty Cells Deleted\t--> Rows: 297829\n",
            "--- Rows Shuffled\t\t\t--> Rows: 297829\n",
            "--- Source Saved: /content/en-de-medicine.en-filtered.en\n",
            "--- Target Saved: /content/en-de-medicine.de-filtered.de\n",
            "Dataframe shape (rows, columns): (39707, 2)\n",
            "--- Rows with Empty Cells Deleted\t--> Rows: 39703\n",
            "--- Duplicates Deleted\t\t\t--> Rows: 12277\n",
            "--- Source-Copied Rows Deleted\t\t--> Rows: 12277\n",
            "--- Too Long Source/Target Deleted\t--> Rows: 10581\n",
            "--- HTML Removed\t\t\t--> Rows: 10581\n",
            "--- Rows will remain in true-cased\t--> Rows: 10581\n",
            "--- Rows with Empty Cells Deleted\t--> Rows: 10581\n",
            "--- Rows Shuffled\t\t\t--> Rows: 10581\n",
            "--- Source Saved: /content/en-de-technology.en-filtered.en\n",
            "--- Target Saved: /content/en-de-technology.de-filtered.de\n"
          ]
        }
      ]
    },
    {
      "cell_type": "code",
      "source": [
        "# SentencePiece model for subword tokenization\n",
        "!python MT-Preparation/subwording/1-train_unigram.py /content/en-de-general.en-filtered.en /content/en-de-general.de-filtered.de\n",
        "!python MT-Preparation/subwording/1-train_unigram.py /content/en-de-medicine.en-filtered.en /content/en-de-medicine.de-filtered.de\n",
        "!python MT-Preparation/subwording/1-train_unigram.py /content/en-de-technology.en-filtered.en /content/en-de-technology.de-filtered.de"
      ],
      "metadata": {
        "colab": {
          "base_uri": "https://localhost:8080/"
        },
        "id": "vNZNyIAOjROA",
        "outputId": "8197c24f-cbb6-49a7-9d6b-a61608da68eb"
      },
      "execution_count": 10,
      "outputs": [
        {
          "output_type": "stream",
          "name": "stdout",
          "text": [
            "sentencepiece_trainer.cc(177) LOG(INFO) Running command: --input=/content/en-de-general.en-filtered.en --model_prefix=source --vocab_size=50000 --hard_vocab_limit=false --split_digits=true\n",
            "sentencepiece_trainer.cc(77) LOG(INFO) Starts training with : \n",
            "trainer_spec {\n",
            "  input: /content/en-de-general.en-filtered.en\n",
            "  input_format: \n",
            "  model_prefix: source\n",
            "  model_type: UNIGRAM\n",
            "  vocab_size: 50000\n",
            "  self_test_sample_size: 0\n",
            "  character_coverage: 0.9995\n",
            "  input_sentence_size: 0\n",
            "  shuffle_input_sentence: 1\n",
            "  seed_sentencepiece_size: 1000000\n",
            "  shrinking_factor: 0.75\n",
            "  max_sentence_length: 4192\n",
            "  num_threads: 16\n",
            "  num_sub_iterations: 2\n",
            "  max_sentencepiece_length: 16\n",
            "  split_by_unicode_script: 1\n",
            "  split_by_number: 1\n",
            "  split_by_whitespace: 1\n",
            "  split_digits: 1\n",
            "  pretokenization_delimiter: \n",
            "  treat_whitespace_as_suffix: 0\n",
            "  allow_whitespace_only_pieces: 0\n",
            "  required_chars: \n",
            "  byte_fallback: 0\n",
            "  vocabulary_output_piece_score: 1\n",
            "  train_extremely_large_corpus: 0\n",
            "  hard_vocab_limit: 0\n",
            "  use_all_vocab: 0\n",
            "  unk_id: 0\n",
            "  bos_id: 1\n",
            "  eos_id: 2\n",
            "  pad_id: -1\n",
            "  unk_piece: <unk>\n",
            "  bos_piece: <s>\n",
            "  eos_piece: </s>\n",
            "  pad_piece: <pad>\n",
            "  unk_surface:  ⁇ \n",
            "  enable_differential_privacy: 0\n",
            "  differential_privacy_noise_level: 0\n",
            "  differential_privacy_clipping_threshold: 0\n",
            "}\n",
            "normalizer_spec {\n",
            "  name: nmt_nfkc\n",
            "  add_dummy_prefix: 1\n",
            "  remove_extra_whitespaces: 1\n",
            "  escape_whitespaces: 1\n",
            "  normalization_rule_tsv: \n",
            "}\n",
            "denormalizer_spec {}\n",
            "trainer_interface.cc(351) LOG(INFO) SentenceIterator is not specified. Using MultiFileSentenceIterator.\n",
            "trainer_interface.cc(183) LOG(INFO) Loading corpus: /content/en-de-general.en-filtered.en\n",
            "trainer_interface.cc(407) LOG(INFO) Loaded all 124047 sentences\n",
            "trainer_interface.cc(423) LOG(INFO) Adding meta_piece: <unk>\n",
            "trainer_interface.cc(423) LOG(INFO) Adding meta_piece: <s>\n",
            "trainer_interface.cc(423) LOG(INFO) Adding meta_piece: </s>\n",
            "trainer_interface.cc(428) LOG(INFO) Normalizing sentences...\n",
            "trainer_interface.cc(537) LOG(INFO) all chars count=28992186\n",
            "trainer_interface.cc(548) LOG(INFO) Done: 99.9507% characters are covered.\n",
            "trainer_interface.cc(558) LOG(INFO) Alphabet size=70\n",
            "trainer_interface.cc(559) LOG(INFO) Final character coverage=0.999507\n",
            "trainer_interface.cc(591) LOG(INFO) Done! preprocessed 124047 sentences.\n",
            "unigram_model_trainer.cc(222) LOG(INFO) Making suffix array...\n",
            "unigram_model_trainer.cc(226) LOG(INFO) Extracting frequent sub strings... node_num=18224540\n",
            "^C\n",
            "sentencepiece_trainer.cc(177) LOG(INFO) Running command: --input=/content/en-de-medicine.en-filtered.en --model_prefix=source --vocab_size=50000 --hard_vocab_limit=false --split_digits=true\n",
            "sentencepiece_trainer.cc(77) LOG(INFO) Starts training with : \n",
            "trainer_spec {\n",
            "  input: /content/en-de-medicine.en-filtered.en\n",
            "  input_format: \n",
            "  model_prefix: source\n",
            "  model_type: UNIGRAM\n",
            "  vocab_size: 50000\n",
            "  self_test_sample_size: 0\n",
            "  character_coverage: 0.9995\n",
            "  input_sentence_size: 0\n",
            "  shuffle_input_sentence: 1\n",
            "  seed_sentencepiece_size: 1000000\n",
            "  shrinking_factor: 0.75\n",
            "  max_sentence_length: 4192\n",
            "  num_threads: 16\n",
            "  num_sub_iterations: 2\n",
            "  max_sentencepiece_length: 16\n",
            "  split_by_unicode_script: 1\n",
            "  split_by_number: 1\n",
            "  split_by_whitespace: 1\n",
            "  split_digits: 1\n",
            "  pretokenization_delimiter: \n",
            "  treat_whitespace_as_suffix: 0\n",
            "  allow_whitespace_only_pieces: 0\n",
            "  required_chars: \n",
            "  byte_fallback: 0\n",
            "  vocabulary_output_piece_score: 1\n",
            "  train_extremely_large_corpus: 0\n",
            "  hard_vocab_limit: 0\n",
            "  use_all_vocab: 0\n",
            "  unk_id: 0\n",
            "  bos_id: 1\n",
            "  eos_id: 2\n",
            "  pad_id: -1\n",
            "  unk_piece: <unk>\n",
            "  bos_piece: <s>\n",
            "  eos_piece: </s>\n",
            "  pad_piece: <pad>\n",
            "  unk_surface:  ⁇ \n",
            "  enable_differential_privacy: 0\n",
            "  differential_privacy_noise_level: 0\n",
            "  differential_privacy_clipping_threshold: 0\n",
            "}\n",
            "normalizer_spec {\n",
            "  name: nmt_nfkc\n",
            "  add_dummy_prefix: 1\n",
            "  remove_extra_whitespaces: 1\n",
            "  escape_whitespaces: 1\n",
            "  normalization_rule_tsv: \n",
            "}\n",
            "denormalizer_spec {}\n",
            "trainer_interface.cc(351) LOG(INFO) SentenceIterator is not specified. Using MultiFileSentenceIterator.\n",
            "trainer_interface.cc(183) LOG(INFO) Loading corpus: /content/en-de-medicine.en-filtered.en\n",
            "trainer_interface.cc(407) LOG(INFO) Loaded all 297829 sentences\n",
            "trainer_interface.cc(423) LOG(INFO) Adding meta_piece: <unk>\n",
            "trainer_interface.cc(423) LOG(INFO) Adding meta_piece: <s>\n",
            "trainer_interface.cc(423) LOG(INFO) Adding meta_piece: </s>\n",
            "trainer_interface.cc(428) LOG(INFO) Normalizing sentences...\n",
            "trainer_interface.cc(537) LOG(INFO) all chars count=28229943\n",
            "trainer_interface.cc(548) LOG(INFO) Done: 99.9509% characters are covered.\n",
            "trainer_interface.cc(558) LOG(INFO) Alphabet size=118\n",
            "trainer_interface.cc(559) LOG(INFO) Final character coverage=0.999509\n",
            "trainer_interface.cc(591) LOG(INFO) Done! preprocessed 297829 sentences.\n",
            "unigram_model_trainer.cc(222) LOG(INFO) Making suffix array...\n",
            "unigram_model_trainer.cc(226) LOG(INFO) Extracting frequent sub strings... node_num=16024071\n",
            "unigram_model_trainer.cc(274) LOG(INFO) Initialized 127934 seed sentencepieces\n",
            "trainer_interface.cc(597) LOG(INFO) Tokenizing input sentences with whitespace: 297829\n",
            "trainer_interface.cc(608) LOG(INFO) Done! 117395\n",
            "unigram_model_trainer.cc(564) LOG(INFO) Using 117395 sentences for EM training\n",
            "unigram_model_trainer.cc(580) LOG(INFO) EM sub_iter=0 size=49936 obj=12.5153 num_tokens=356531 num_tokens/piece=7.13976\n",
            "unigram_model_trainer.cc(580) LOG(INFO) EM sub_iter=1 size=40486 obj=9.39174 num_tokens=357340 num_tokens/piece=8.82626\n",
            "trainer_interface.cc(686) LOG(INFO) Saving model: source.model\n",
            "trainer_interface.cc(698) LOG(INFO) Saving vocabs: source.vocab\n",
            "Traceback (most recent call last):\n",
            "  File \"/content/nmt/MT-Preparation/subwording/1-train_unigram.py\", line 29, in <module>\n",
            "    spm.SentencePieceTrainer.train(source_train_value)\n",
            "  File \"/usr/local/lib/python3.10/dist-packages/sentencepiece/__init__.py\", line 989, in Train\n",
            "    SentencePieceTrainer._Train(arg=arg, **kwargs)\n",
            "  File \"/usr/local/lib/python3.10/dist-packages/sentencepiece/__init__.py\", line 945, in _Train\n",
            "    return SentencePieceTrainer._TrainFromString(arg)\n",
            "  File \"/usr/local/lib/python3.10/dist-packages/sentencepiece/__init__.py\", line 923, in _TrainFromString\n",
            "    return _sentencepiece.SentencePieceTrainer__TrainFromString(arg)\n",
            "KeyboardInterrupt\n",
            "^C\n",
            "sentencepiece_trainer.cc(177) LOG(INFO) Running command: --input=/content/en-de-technology.en-filtered.en --model_prefix=source --vocab_size=50000 --hard_vocab_limit=false --split_digits=true\n",
            "sentencepiece_trainer.cc(77) LOG(INFO) Starts training with : \n",
            "trainer_spec {\n",
            "  input: /content/en-de-technology.en-filtered.en\n",
            "  input_format: \n",
            "  model_prefix: source\n",
            "  model_type: UNIGRAM\n",
            "  vocab_size: 50000\n",
            "  self_test_sample_size: 0\n",
            "  character_coverage: 0.9995\n",
            "  input_sentence_size: 0\n",
            "  shuffle_input_sentence: 1\n",
            "  seed_sentencepiece_size: 1000000\n",
            "  shrinking_factor: 0.75\n",
            "  max_sentence_length: 4192\n",
            "  num_threads: 16\n",
            "  num_sub_iterations: 2\n",
            "  max_sentencepiece_length: 16\n",
            "  split_by_unicode_script: 1\n",
            "  split_by_number: 1\n",
            "  split_by_whitespace: 1\n",
            "  split_digits: 1\n",
            "  pretokenization_delimiter: \n",
            "  treat_whitespace_as_suffix: 0\n",
            "  allow_whitespace_only_pieces: 0\n",
            "  required_chars: \n",
            "  byte_fallback: 0\n",
            "  vocabulary_output_piece_score: 1\n",
            "  train_extremely_large_corpus: 0\n",
            "  hard_vocab_limit: 0\n",
            "  use_all_vocab: 0\n",
            "  unk_id: 0\n",
            "  bos_id: 1\n",
            "  eos_id: 2\n",
            "  pad_id: -1\n",
            "  unk_piece: <unk>\n",
            "  bos_piece: <s>\n",
            "  eos_piece: </s>\n",
            "  pad_piece: <pad>\n",
            "  unk_surface:  ⁇ \n",
            "  enable_differential_privacy: 0\n",
            "  differential_privacy_noise_level: 0\n",
            "  differential_privacy_clipping_threshold: 0\n",
            "}\n",
            "normalizer_spec {\n",
            "  name: nmt_nfkc\n",
            "  add_dummy_prefix: 1\n",
            "  remove_extra_whitespaces: 1\n",
            "  escape_whitespaces: 1\n",
            "  normalization_rule_tsv: \n",
            "}\n",
            "denormalizer_spec {}\n",
            "trainer_interface.cc(351) LOG(INFO) SentenceIterator is not specified. Using MultiFileSentenceIterator.\n",
            "trainer_interface.cc(183) LOG(INFO) Loading corpus: /content/en-de-technology.en-filtered.en\n",
            "trainer_interface.cc(407) LOG(INFO) Loaded all 10581 sentences\n",
            "trainer_interface.cc(423) LOG(INFO) Adding meta_piece: <unk>\n",
            "trainer_interface.cc(423) LOG(INFO) Adding meta_piece: <s>\n",
            "trainer_interface.cc(423) LOG(INFO) Adding meta_piece: </s>\n",
            "trainer_interface.cc(428) LOG(INFO) Normalizing sentences...\n",
            "trainer_interface.cc(537) LOG(INFO) all chars count=907708\n",
            "trainer_interface.cc(548) LOG(INFO) Done: 99.9602% characters are covered.\n",
            "trainer_interface.cc(558) LOG(INFO) Alphabet size=84\n",
            "trainer_interface.cc(559) LOG(INFO) Final character coverage=0.999602\n",
            "trainer_interface.cc(591) LOG(INFO) Done! preprocessed 10581 sentences.\n",
            "unigram_model_trainer.cc(222) LOG(INFO) Making suffix array...\n",
            "unigram_model_trainer.cc(226) LOG(INFO) Extracting frequent sub strings... node_num=494926\n",
            "unigram_model_trainer.cc(274) LOG(INFO) Initialized 22347 seed sentencepieces\n",
            "trainer_interface.cc(597) LOG(INFO) Tokenizing input sentences with whitespace: 10581\n",
            "trainer_interface.cc(608) LOG(INFO) Done! 20565\n",
            "unigram_model_trainer.cc(564) LOG(INFO) Using 20565 sentences for EM training\n",
            "unigram_model_trainer.cc(580) LOG(INFO) EM sub_iter=0 size=9336 obj=12.8833 num_tokens=63609 num_tokens/piece=6.8133\n",
            "unigram_model_trainer.cc(580) LOG(INFO) EM sub_iter=1 size=8162 obj=10.401 num_tokens=63865 num_tokens/piece=7.82468\n",
            "trainer_interface.cc(686) LOG(INFO) Saving model: source.model\n",
            "trainer_interface.cc(698) LOG(INFO) Saving vocabs: source.vocab\n",
            "Done, training a SentencepPiece model for the Source finished successfully!\n",
            "sentencepiece_trainer.cc(177) LOG(INFO) Running command: --input=/content/en-de-technology.de-filtered.de --model_prefix=target --vocab_size=50000 --hard_vocab_limit=false --split_digits=true\n",
            "sentencepiece_trainer.cc(77) LOG(INFO) Starts training with : \n",
            "trainer_spec {\n",
            "  input: /content/en-de-technology.de-filtered.de\n",
            "  input_format: \n",
            "  model_prefix: target\n",
            "  model_type: UNIGRAM\n",
            "  vocab_size: 50000\n",
            "  self_test_sample_size: 0\n",
            "  character_coverage: 0.9995\n",
            "  input_sentence_size: 0\n",
            "  shuffle_input_sentence: 1\n",
            "  seed_sentencepiece_size: 1000000\n",
            "  shrinking_factor: 0.75\n",
            "  max_sentence_length: 4192\n",
            "  num_threads: 16\n",
            "  num_sub_iterations: 2\n",
            "  max_sentencepiece_length: 16\n",
            "  split_by_unicode_script: 1\n",
            "  split_by_number: 1\n",
            "  split_by_whitespace: 1\n",
            "  split_digits: 1\n",
            "  pretokenization_delimiter: \n",
            "  treat_whitespace_as_suffix: 0\n",
            "  allow_whitespace_only_pieces: 0\n",
            "  required_chars: \n",
            "  byte_fallback: 0\n",
            "  vocabulary_output_piece_score: 1\n",
            "  train_extremely_large_corpus: 0\n",
            "  hard_vocab_limit: 0\n",
            "  use_all_vocab: 0\n",
            "  unk_id: 0\n",
            "  bos_id: 1\n",
            "  eos_id: 2\n",
            "  pad_id: -1\n",
            "  unk_piece: <unk>\n",
            "  bos_piece: <s>\n",
            "  eos_piece: </s>\n",
            "  pad_piece: <pad>\n",
            "  unk_surface:  ⁇ \n",
            "  enable_differential_privacy: 0\n",
            "  differential_privacy_noise_level: 0\n",
            "  differential_privacy_clipping_threshold: 0\n",
            "}\n",
            "normalizer_spec {\n",
            "  name: nmt_nfkc\n",
            "  add_dummy_prefix: 1\n",
            "  remove_extra_whitespaces: 1\n",
            "  escape_whitespaces: 1\n",
            "  normalization_rule_tsv: \n",
            "}\n",
            "denormalizer_spec {}\n",
            "trainer_interface.cc(351) LOG(INFO) SentenceIterator is not specified. Using MultiFileSentenceIterator.\n",
            "trainer_interface.cc(183) LOG(INFO) Loading corpus: /content/en-de-technology.de-filtered.de\n",
            "trainer_interface.cc(407) LOG(INFO) Loaded all 10581 sentences\n",
            "trainer_interface.cc(423) LOG(INFO) Adding meta_piece: <unk>\n",
            "trainer_interface.cc(423) LOG(INFO) Adding meta_piece: <s>\n",
            "trainer_interface.cc(423) LOG(INFO) Adding meta_piece: </s>\n",
            "trainer_interface.cc(428) LOG(INFO) Normalizing sentences...\n",
            "trainer_interface.cc(537) LOG(INFO) all chars count=1017442\n",
            "trainer_interface.cc(548) LOG(INFO) Done: 99.9566% characters are covered.\n",
            "trainer_interface.cc(558) LOG(INFO) Alphabet size=90\n",
            "trainer_interface.cc(559) LOG(INFO) Final character coverage=0.999566\n",
            "trainer_interface.cc(591) LOG(INFO) Done! preprocessed 10581 sentences.\n",
            "unigram_model_trainer.cc(222) LOG(INFO) Making suffix array...\n",
            "unigram_model_trainer.cc(226) LOG(INFO) Extracting frequent sub strings... node_num=547100\n",
            "unigram_model_trainer.cc(274) LOG(INFO) Initialized 38952 seed sentencepieces\n",
            "trainer_interface.cc(597) LOG(INFO) Tokenizing input sentences with whitespace: 10581\n",
            "trainer_interface.cc(608) LOG(INFO) Done! 25952\n",
            "unigram_model_trainer.cc(564) LOG(INFO) Using 25952 sentences for EM training\n",
            "unigram_model_trainer.cc(580) LOG(INFO) EM sub_iter=0 size=13332 obj=14.5167 num_tokens=76593 num_tokens/piece=5.74505\n",
            "unigram_model_trainer.cc(580) LOG(INFO) EM sub_iter=1 size=11797 obj=11.5859 num_tokens=77013 num_tokens/piece=6.52819\n",
            "trainer_interface.cc(686) LOG(INFO) Saving model: target.model\n",
            "trainer_interface.cc(698) LOG(INFO) Saving vocabs: target.vocab\n",
            "Done, training a SentencepPiece model for the Target finished successfully!\n"
          ]
        }
      ]
    },
    {
      "cell_type": "code",
      "source": [
        "# # subword all (sub)corpora: general and domain-specific\n",
        "!python3 MT-Preparation/subwording/2-subword.py source.model target.model /content/en-de-general.en-filtered.en /content/en-de-general.de-filtered.de\n",
        "!python3 MT-Preparation/subwording/2-subword.py source.model target.model /content/en-de-medicine.en-filtered.en /content/en-de-medicine.de-filtered.de\n",
        "!python3 MT-Preparation/subwording/2-subword.py source.model target.model /content/en-de-technology.en-filtered.en /content/en-de-technology.de-filtered.de"
      ],
      "metadata": {
        "colab": {
          "base_uri": "https://localhost:8080/"
        },
        "id": "GH4_xmGOkfEn",
        "outputId": "918c6965-948e-45bc-f8ab-aa901932fb1c"
      },
      "execution_count": 11,
      "outputs": [
        {
          "output_type": "stream",
          "name": "stdout",
          "text": [
            "Source Model: source.model\n",
            "Target Model: target.model\n",
            "Source Dataset: /content/en-de-general.en-filtered.en\n",
            "Target Dataset: /content/en-de-general.de-filtered.de\n",
            "Done subwording the source file! Output: /content/en-de-general.en-filtered.en.subword\n",
            "Done subwording the target file! Output: /content/en-de-general.de-filtered.de.subword\n",
            "Source Model: source.model\n",
            "Target Model: target.model\n",
            "Source Dataset: /content/en-de-medicine.en-filtered.en\n",
            "Target Dataset: /content/en-de-medicine.de-filtered.de\n",
            "Done subwording the source file! Output: /content/en-de-medicine.en-filtered.en.subword\n",
            "Done subwording the target file! Output: /content/en-de-medicine.de-filtered.de.subword\n",
            "Source Model: source.model\n",
            "Target Model: target.model\n",
            "Source Dataset: /content/en-de-technology.en-filtered.en\n",
            "Target Dataset: /content/en-de-technology.de-filtered.de\n",
            "Done subwording the source file! Output: /content/en-de-technology.en-filtered.en.subword\n",
            "Done subwording the target file! Output: /content/en-de-technology.de-filtered.de.subword\n"
          ]
        }
      ]
    },
    {
      "cell_type": "code",
      "source": [
        "# general: first 3 lines before subwording\n",
        "!head -n 3 /content/en-de-general.en-filtered.en && echo \"-----\" && head -n 3 /content/en-de-general.de-filtered.de"
      ],
      "metadata": {
        "colab": {
          "base_uri": "https://localhost:8080/"
        },
        "id": "VXHOzV3okqY1",
        "outputId": "ff21646c-b3d6-49d6-f1be-397427e71274"
      },
      "execution_count": 12,
      "outputs": [
        {
          "output_type": "stream",
          "name": "stdout",
          "text": [
            "Deplores the death of more than 1,100 civilians, one third being children, as a result of the Israeli military operations in Lebanon;\n",
            "Reaffirms the target of 500 million United States dollars by 2008, urges all Member States and invites the private sector and all concerned individuals and institutions to consider making voluntary contributions to the Central Emergency Response Fund, and emphasizes that contributions should be additional to current commitments to humanitarian programming and to resources made available for international development cooperation;\n",
            "Takes note with appreciation of the report of the Secretary-General on the role of the Department of Public Information in United Nations peacekeeping;\n",
            "-----\n",
            "5. beklagt den Tod von über 1.100 Zivilpersonen, ein Drittel davon Kinder, infolge der israelischen Militäroperationen in Libanon;\n",
            "17. bekräftigt das bis 2008 zu erreichende Ziel von 500 Millionen US-Dollar, fordert alle Mitgliedstaaten nachdrücklich auf und bittet den Privatsektor und alle in Betracht kommenden Personen und Institutionen, die Entrichtung freiwilliger Beiträge an den Zentralen Fonds für die Reaktion auf Notsituationen zu erwägen, und betont, dass die Beiträge zusätzlich zu den bereits zugesagten Mitteln für humanitäre Programme und den für die internationale Entwicklungszusammenarbeit zur Verfügung gestellten Mitteln entrichtet werden sollen;\n",
            "45. nimmt mit Dank Kenntnis von dem Bericht des Generalsekretärs über die Rolle der Hauptabteilung Presse und Information bei der Friedenssicherung der Vereinten Nationen;\n"
          ]
        }
      ]
    },
    {
      "cell_type": "code",
      "source": [
        "# medicine\n",
        "!head -n 3 /content/en-de-medicine.en-filtered.en && echo \"-----\" && head -n 3 /content/en-de-medicine.de-filtered.de"
      ],
      "metadata": {
        "colab": {
          "base_uri": "https://localhost:8080/"
        },
        "outputId": "7cc777a8-cfaa-401c-a373-edcba475cbb9",
        "id": "bdqEyOzFAMo0"
      },
      "execution_count": 13,
      "outputs": [
        {
          "output_type": "stream",
          "name": "stdout",
          "text": [
            "{CARTON OF ONE} {CARTON OF THREE}\n",
            "Parareg 60 mg tablet Cinacalcet\n",
            "Body weight:\n",
            "-----\n",
            "{Umkarton mit 1} {Umkarton mit 3}\n",
            "Parareg 60 mg Tablette Cinacalcet\n",
            "Körpergewicht:\n"
          ]
        }
      ]
    },
    {
      "cell_type": "code",
      "source": [
        "# technology\n",
        "!head -n 3 /content/en-de-technology.en-filtered.en && echo \"-----\" && head -n 3 /content/en-de-technology.de-filtered.de"
      ],
      "metadata": {
        "colab": {
          "base_uri": "https://localhost:8080/"
        },
        "outputId": "a4c3ae51-6d84-4c74-e565-472b8845bdec",
        "id": "npdwzxqqAM3H"
      },
      "execution_count": 14,
      "outputs": [
        {
          "output_type": "stream",
          "name": "stdout",
          "text": [
            "The extended or derived class has all variables and functions of the base class (this is called'inheritance 'despite the fact that nobody died) and what you add in the extended definition.\n",
            "See the Unix man page for your crypt function for more information.\n",
            "This function will return -1 on error.\n",
            "-----\n",
            "Die erweiterte bzw. abgeleitete Klasse verfügt über alle Variablen und Funktionen der Basisklasse (dies wird 'Vererbung 'genannt, obwohl niemand gestorben ist), und was Sie in der erweiterten Definition hinzufügen.\n",
            "Die zu übergebenden Argumente sind der zu verschlüsselnde String und optional ein 2-Zeichen-Salt-String, der die Schlüsselbasis bildet.\n",
            "Diese Funktion gibt bei einem Fehler -1 aus.\n"
          ]
        }
      ]
    },
    {
      "cell_type": "code",
      "source": [
        "# general: after subwording\n",
        "!head -n 3 /content/en-de-general.en-filtered.en.subword && echo \"-----\" && head -n 3 /content/en-de-general.de-filtered.de.subword"
      ],
      "metadata": {
        "colab": {
          "base_uri": "https://localhost:8080/"
        },
        "id": "yE66RXYgktVl",
        "outputId": "7df9f244-1c13-4b5e-f12a-297e77411c5c"
      },
      "execution_count": 15,
      "outputs": [
        {
          "output_type": "stream",
          "name": "stdout",
          "text": [
            "▁Dep lo res ▁the ▁de a th ▁of ▁more ▁than ▁ 1 , 1 0 0 ▁c iv i lian s , ▁one ▁ third ▁be ing ▁children , ▁as ▁a ▁result ▁of ▁the ▁I s ra el i ▁m il it ary ▁operations ▁in ▁Le ba non ;\n",
            "▁Re a ff ir m s ▁the ▁target ▁of ▁ 5 0 0 ▁million ▁ Unit ed ▁State s ▁dollar s ▁by ▁ 2 0 0 8 , ▁ ur ge s ▁all ▁M ember ▁State s ▁and ▁in vi tes ▁the ▁private ▁ sec tor ▁and ▁all ▁conce rned ▁in divid ual s ▁and ▁in st it ut ions ▁to ▁consider ▁mak ing ▁vol un t ary ▁ contribut ions ▁to ▁the ▁C ent r al ▁E merge ncy ▁Re spon se ▁F un d , ▁and ▁emp ha size s ▁that ▁ contribut ions ▁should ▁be ▁additional ▁to ▁current ▁commit ments ▁to ▁human it arian ▁programming ▁and ▁to ▁resources ▁made ▁available ▁for ▁interna tional ▁develop ment ▁co operation ;\n",
            "▁Take s ▁note ▁with ▁app re c iation ▁of ▁the ▁report ▁of ▁the ▁Se cre t ary - G en er al ▁on ▁the ▁r ole ▁of ▁the ▁D epartment ▁of ▁Public ▁Information ▁in ▁ Unit ed ▁N ation s ▁pe a ce keep ing ;\n",
            "-----\n",
            "▁ 5 . ▁be k lag t ▁den ▁To d ▁von ▁über ▁ 1 . 1 0 0 ▁Z i vil person en , ▁ein ▁Dritt el ▁davon ▁Kind er , ▁in folge ▁der ▁is ra el ischen ▁M ili tä r operation en ▁in ▁Lib an on ;\n",
            "▁ 1 7 . ▁be kr äftig t ▁das ▁bis ▁ 2 0 0 8 ▁zu ▁erreichen de ▁Ziel ▁von ▁ 5 0 0 ▁M ill ionen ▁ US - D oll ar , ▁ fordert ▁alle ▁ Mitglied st a aten ▁nach d r ücklich ▁auf ▁und ▁bitte t ▁den ▁Pr iv at s ek tor ▁und ▁alle ▁in ▁Betracht ▁kommen den ▁Personen ▁und ▁In st it u tionen , ▁die ▁Ent richt ung ▁frei will iger ▁Bei träge ▁an ▁den ▁Z entr al en ▁F onds ▁für ▁die ▁Re aktion ▁auf ▁Not s ituation en ▁zu ▁erwä gen , ▁und ▁bet on t , ▁dass ▁die ▁Bei träge ▁zusätzlich ▁zu ▁den ▁bereits ▁zu gesagt en ▁Mittel n ▁für ▁h um an it äre ▁Programme ▁und ▁den ▁für ▁die ▁interna tionale ▁Entwicklungs zusammen arbeit ▁zur ▁Verfügung ▁gestellt en ▁Mittel n ▁ent richtet ▁werden ▁sollen ;\n",
            "▁ 4 5 . ▁nimmt ▁mit ▁Da nk ▁Kenn t n is ▁von ▁dem ▁Be richt ▁des ▁Gener als ek re tä r s ▁über ▁die ▁Rolle ▁der ▁Haupt ab teil ung ▁Pre sse ▁und ▁Information ▁bei ▁der ▁Fri ed en s s icherung ▁der ▁Ver ein ten ▁Nat ionen ;\n"
          ]
        }
      ]
    },
    {
      "cell_type": "code",
      "source": [
        "# medicine\n",
        "!head -n 3 /content/en-de-medicine.en-filtered.en.subword && echo \"-----\" && head -n 3 /content/en-de-medicine.de-filtered.de.subword"
      ],
      "metadata": {
        "colab": {
          "base_uri": "https://localhost:8080/"
        },
        "outputId": "032f73bd-5ef4-4264-a607-a1838b93f7bd",
        "id": "eTzBcEh6AZMd"
      },
      "execution_count": 16,
      "outputs": [
        {
          "output_type": "stream",
          "name": "stdout",
          "text": [
            "▁{ C AR T ON ▁ OF ▁ ONE } ▁{ C AR T ON ▁ OF ▁TH RE E }\n",
            "▁P ar a reg ▁ 6 0 ▁m g ▁table t ▁C in a cal ce t\n",
            "▁Body ▁weight :\n",
            "-----\n",
            "▁{ Um kart on ▁mit ▁ 1 } ▁{ Um kart on ▁mit ▁ 3 }\n",
            "▁Par a reg ▁ 6 0 ▁m g ▁Table t te ▁C in a cal ce t\n",
            "▁K ör per ge wicht :\n"
          ]
        }
      ]
    },
    {
      "cell_type": "code",
      "source": [
        "# technology\n",
        "!head -n 3 /content/en-de-technology.en-filtered.en.subword && echo \"-----\" && head -n 3 /content/en-de-technology.de-filtered.de.subword"
      ],
      "metadata": {
        "colab": {
          "base_uri": "https://localhost:8080/"
        },
        "outputId": "6e1198b0-b759-48bb-e8f4-77b3de93f38f",
        "id": "qqNNUWmkAZRy"
      },
      "execution_count": 17,
      "outputs": [
        {
          "output_type": "stream",
          "name": "stdout",
          "text": [
            "▁The ▁extended ▁or ▁deriv ed ▁class ▁has ▁all ▁variables ▁and ▁functions ▁of ▁the ▁base ▁class ▁( this ▁is ▁called ' inherit ance ▁' de sp ite ▁the ▁fact ▁that ▁nobody ▁died ) ▁and ▁what ▁you ▁add ▁in ▁the ▁extended ▁definition .\n",
            "▁See ▁the ▁Unix ▁man ▁page ▁for ▁your ▁crypt ▁function ▁for ▁more ▁information .\n",
            "▁Thi s ▁function ▁will ▁return ▁- 1 ▁on ▁error .\n",
            "-----\n",
            "▁Die ▁erweiterte ▁bzw . ▁abgeleitete ▁Klasse ▁verfügt ▁über ▁alle ▁Variablen ▁und ▁Funktionen ▁der ▁Basisklasse ▁( dies ▁wird ▁' Vererbung ▁' genannt , ▁ob wohl ▁niema nd ▁gest or ben ▁ist ), ▁und ▁ was ▁Sie ▁in ▁der ▁erweitert en ▁Definition ▁hinzufügen .\n",
            "▁Die ▁zu ▁übergeben den ▁Argumente ▁sind ▁der ▁zu ▁verschlüsseln de ▁String ▁und ▁optional ▁ein ▁ 2 - Zeichen - Salt - String , ▁der ▁die ▁Schlüssel basis ▁bildet .\n",
            "▁Diese ▁Funktion ▁gibt ▁bei ▁eine m ▁Fehler ▁- 1 ▁aus .\n"
          ]
        }
      ]
    },
    {
      "cell_type": "code",
      "source": [
        "# split dataset into training, development and test sets\n",
        "# dev and test sets should be 1000-5000 segments: here we use 5000 since our dataset is larger than the one used in the example\n",
        "!python MT-Preparation/train_dev_split/train_dev_test_split.py 5000 5000 /content/en-de-general.en-filtered.en.subword /content/en-de-general.de-filtered.de.subword\n",
        "!python MT-Preparation/train_dev_split/train_dev_test_split.py 5000 5000 /content/en-de-medicine.en-filtered.en.subword /content/en-de-medicine.de-filtered.de.subword\n",
        "!python MT-Preparation/train_dev_split/train_dev_test_split.py 5000 5000 /content/en-de-technology.en-filtered.en.subword /content/en-de-technology.de-filtered.de.subword"
      ],
      "metadata": {
        "colab": {
          "base_uri": "https://localhost:8080/"
        },
        "id": "buxggI-Yk3Yt",
        "outputId": "a06b9958-7cdf-49d0-9019-d88a2a782334"
      },
      "execution_count": 18,
      "outputs": [
        {
          "output_type": "stream",
          "name": "stdout",
          "text": [
            "Dataframe shape: (124047, 2)\n",
            "--- Empty Cells Deleted --> Rows: 124047\n",
            "--- Wrote Files\n",
            "Done!\n",
            "Output files\n",
            "/content/en-de-general.en-filtered.en.subword.train\n",
            "/content/en-de-general.de-filtered.de.subword.train\n",
            "/content/en-de-general.en-filtered.en.subword.dev\n",
            "/content/en-de-general.de-filtered.de.subword.dev\n",
            "/content/en-de-general.en-filtered.en.subword.test\n",
            "/content/en-de-general.de-filtered.de.subword.test\n",
            "Dataframe shape: (297829, 2)\n",
            "--- Empty Cells Deleted --> Rows: 297829\n",
            "--- Wrote Files\n",
            "Done!\n",
            "Output files\n",
            "/content/en-de-medicine.en-filtered.en.subword.train\n",
            "/content/en-de-medicine.de-filtered.de.subword.train\n",
            "/content/en-de-medicine.en-filtered.en.subword.dev\n",
            "/content/en-de-medicine.de-filtered.de.subword.dev\n",
            "/content/en-de-medicine.en-filtered.en.subword.test\n",
            "/content/en-de-medicine.de-filtered.de.subword.test\n",
            "Dataframe shape: (10581, 2)\n",
            "--- Empty Cells Deleted --> Rows: 10581\n",
            "--- Wrote Files\n",
            "Done!\n",
            "Output files\n",
            "/content/en-de-technology.en-filtered.en.subword.train\n",
            "/content/en-de-technology.de-filtered.de.subword.train\n",
            "/content/en-de-technology.en-filtered.en.subword.dev\n",
            "/content/en-de-technology.de-filtered.de.subword.dev\n",
            "/content/en-de-technology.en-filtered.en.subword.test\n",
            "/content/en-de-technology.de-filtered.de.subword.test\n"
          ]
        }
      ]
    },
    {
      "cell_type": "code",
      "source": [
        "# line count for subworded train, dev, test sets\n",
        "!wc -l /content/*.subword.*"
      ],
      "metadata": {
        "colab": {
          "base_uri": "https://localhost:8080/"
        },
        "id": "ULlUFocelWQO",
        "outputId": "0f23ad7a-8d76-4ca3-c659-9f8d0bf118b3"
      },
      "execution_count": 19,
      "outputs": [
        {
          "output_type": "stream",
          "name": "stdout",
          "text": [
            "     5000 /content/en-de-general.de-filtered.de.subword.dev\n",
            "     5000 /content/en-de-general.de-filtered.de.subword.test\n",
            "   114047 /content/en-de-general.de-filtered.de.subword.train\n",
            "     5000 /content/en-de-general.en-filtered.en.subword.dev\n",
            "     5000 /content/en-de-general.en-filtered.en.subword.test\n",
            "   114047 /content/en-de-general.en-filtered.en.subword.train\n",
            "     5000 /content/en-de-medicine.de-filtered.de.subword.dev\n",
            "     5000 /content/en-de-medicine.de-filtered.de.subword.test\n",
            "   287829 /content/en-de-medicine.de-filtered.de.subword.train\n",
            "     5000 /content/en-de-medicine.en-filtered.en.subword.dev\n",
            "     5000 /content/en-de-medicine.en-filtered.en.subword.test\n",
            "   287829 /content/en-de-medicine.en-filtered.en.subword.train\n",
            "     5000 /content/en-de-technology.de-filtered.de.subword.dev\n",
            "     5000 /content/en-de-technology.de-filtered.de.subword.test\n",
            "      581 /content/en-de-technology.de-filtered.de.subword.train\n",
            "     5000 /content/en-de-technology.en-filtered.en.subword.dev\n",
            "     5000 /content/en-de-technology.en-filtered.en.subword.test\n",
            "      581 /content/en-de-technology.en-filtered.en.subword.train\n",
            "   864914 total\n"
          ]
        }
      ]
    },
    {
      "cell_type": "code",
      "source": [
        "# Check the first and last line from each dataset\n",
        "\n",
        "!echo \"---First line---\"\n",
        "!head -n 1 /content/*.{train,dev,test}\n",
        "\n",
        "!echo -e \"\\n---Last line---\"\n",
        "!tail -n 1 /content/*.{train,dev,test}"
      ],
      "metadata": {
        "colab": {
          "base_uri": "https://localhost:8080/"
        },
        "id": "rSpk7yq-lbPd",
        "outputId": "504b500d-715b-4bae-fdb2-f1897a6d015e"
      },
      "execution_count": 20,
      "outputs": [
        {
          "output_type": "stream",
          "name": "stdout",
          "text": [
            "---First line---\n",
            "==> /content/en-de-general.de-filtered.de.subword.train <==\n",
            "▁ 5 . ▁be k lag t ▁den ▁To d ▁von ▁über ▁ 1 . 1 0 0 ▁Z i vil person en , ▁ein ▁Dritt el ▁davon ▁Kind er , ▁in folge ▁der ▁is ra el ischen ▁M ili tä r operation en ▁in ▁Lib an on ;\n",
            "\n",
            "==> /content/en-de-general.en-filtered.en.subword.train <==\n",
            "▁Dep lo res ▁the ▁de a th ▁of ▁more ▁than ▁ 1 , 1 0 0 ▁c iv i lian s , ▁one ▁ third ▁be ing ▁children , ▁as ▁a ▁result ▁of ▁the ▁I s ra el i ▁m il it ary ▁operations ▁in ▁Le ba non ;\n",
            "\n",
            "==> /content/en-de-medicine.de-filtered.de.subword.train <==\n",
            "▁{ Um kart on ▁mit ▁ 1 } ▁{ Um kart on ▁mit ▁ 3 }\n",
            "\n",
            "==> /content/en-de-medicine.en-filtered.en.subword.train <==\n",
            "▁{ C AR T ON ▁ OF ▁ ONE } ▁{ C AR T ON ▁ OF ▁TH RE E }\n",
            "\n",
            "==> /content/en-de-technology.de-filtered.de.subword.train <==\n",
            "▁PHP ▁ 4 ▁( nicht ▁PHP ▁ 3 ) ▁enthält ▁ein ▁foreach ▁Konstrukt , ▁genau ▁wie ▁Perl ▁und ▁einige ▁andere ▁Sprachen .\n",
            "\n",
            "==> /content/en-de-technology.en-filtered.en.subword.train <==\n",
            "▁PHP ▁ 4 ▁( not ▁PHP ▁ 3 ) ▁include s ▁a ▁foreach ▁construct , ▁m uch ▁like ▁Perl ▁and ▁some ▁other ▁languages .\n",
            "\n",
            "==> /content/en-de-general.de-filtered.de.subword.dev <==\n",
            "▁Welt ko n ferenz ▁der ▁Par la ment sp rä sid en ten ▁der ▁Inter - P ar la ment ar ischen ▁Un ion .\n",
            "\n",
            "==> /content/en-de-general.en-filtered.en.subword.dev <==\n",
            "▁World ▁Con ference ▁of ▁Spe ak ers ▁of ▁P ar li a ment ▁of ▁the ▁Inter - P ar li a ment ary ▁Un ion .\n",
            "\n",
            "==> /content/en-de-medicine.de-filtered.de.subword.dev <==\n",
            "▁Es ▁kann ▁sein , ▁dass ▁Sie ▁eine n ▁H aut aus schlag , ▁Ju ck rei z ▁oder ▁Sch we llung en ▁bemerken ▁( g ewöhnlich ▁sind ▁Ge sicht , ▁Li ppen , ▁Z ung e ▁oder ▁Ra chen ▁betroffen ), ▁die ▁Ihnen ▁das ▁A tm en ▁oder ▁das ▁Schlu ck en ▁er schwer en ▁können .\n",
            "\n",
            "==> /content/en-de-medicine.en-filtered.en.subword.dev <==\n",
            "▁You ▁may ▁notice ▁a ▁ras h ▁or ▁it ch ing ▁and ▁s well ing ▁( usual ly ▁of ▁the ▁face , ▁l ips , ▁to ng ue ▁or ▁th ro at ), ▁which ▁may ▁cause ▁diff icul ty ▁in ▁br e a th ing ▁or ▁s w allow ing .\n",
            "\n",
            "==> /content/en-de-technology.de-filtered.de.subword.dev <==\n",
            "▁Bei ▁insert ▁/ ▁update ▁Abfragen ▁müssen ▁Sie ▁diese ▁\" blob ▁id ' s \" ▁mit ▁der ▁Funktion ▁\" ifx _ create _ blob (); \" ▁selbe r ▁erzeugen .\n",
            "\n",
            "==> /content/en-de-technology.en-filtered.en.subword.dev <==\n",
            "▁For ▁insert ▁/ ▁update ▁queries ▁you ▁must ▁create ▁these ▁\" blob ▁id ' s \" ▁yourself ▁with ▁\" ifx _ create _ blob (); \".\n",
            "\n",
            "==> /content/en-de-general.de-filtered.de.subword.test <==\n",
            "▁Fri ed en , ▁Sicherheit ▁und ▁Wieder ver ein igung ▁auf ▁der ▁ko re anisch en ▁Hal bin sel\n",
            "\n",
            "==> /content/en-de-general.en-filtered.en.subword.test <==\n",
            "▁P e a ce , ▁security ▁and ▁re un ification ▁on ▁the ▁K orean ▁p en in sul a\n",
            "\n",
            "==> /content/en-de-medicine.de-filtered.de.subword.test <==\n",
            "▁Wenn ▁Sie ▁aller ding s ▁gleichzeitig ▁A r z n e i mittel ▁ein nehme n , ▁die ▁C ic lo sp or in ▁oder ▁Ta c r ol im us ▁enthalten , ▁müssen ▁Sie ▁dies ▁gegen über ▁Ihre m ▁A r zt ▁erwähn en , ▁da ▁die ▁ Dos ierung ▁diese r ▁A r z n e i mittel ▁wieder ▁ange passt ▁werden ▁muss .\n",
            "\n",
            "==> /content/en-de-medicine.en-filtered.en.subword.test <==\n",
            "▁However ▁if ▁you ▁ were ▁tak ing ▁m ed ic ine s ▁containing ▁c ic lo s por in ▁or ▁t ac r ol i mus ▁you ▁must ▁mention ▁this ▁to ▁your ▁doc tor , ▁as ▁the ▁do se ▁will ▁need ▁to ▁be ▁a d just ed .\n",
            "\n",
            "==> /content/en-de-technology.de-filtered.de.subword.test <==\n",
            "▁Bei ▁ 2 0 ▁untergeordnete n ▁Prozess en , ▁die ▁ein ▁Skript ▁ausführen , ▁das ▁eine ▁persistente ▁Verbindung ▁zum ▁SQL - Server ▁herstell t , ▁hat ▁man ▁beispielsweise ▁ 2 0 ▁verschiedene ▁Verbindungen ▁zum ▁SQL - Server ▁- ▁eine ▁für ▁jede n ▁untergeordnete n ▁Prozess .\n",
            "\n",
            "==> /content/en-de-technology.en-filtered.en.subword.test <==\n",
            "▁For ▁example , ▁if ▁you ▁ had ▁ 2 0 ▁different ▁child ▁processes ▁that ▁ran ▁a ▁script ▁that ▁made ▁a ▁persistent ▁connection ▁to ▁your ▁SQL ▁server , ▁you ▁' d ▁have ▁ 2 0 ▁different ▁connections ▁to ▁the ▁SQL ▁server , ▁one ▁from ▁each ▁child .\n",
            "\n",
            "---Last line---\n",
            "==> /content/en-de-general.de-filtered.de.subword.train <==\n",
            "▁Aug ust ▁- ▁ 4 . ▁Se pte mber ▁ 2 0 0 2 ▁( aus zug sweise ▁ Ü bersetzung ▁des ▁Dokuments ▁A / CON F . 1 9 9 / 2 0 ▁vo m ▁ 1 0 . ▁ Nov em ber ▁ 2 0 0 2 ), ▁Ka p .\n",
            "\n",
            "==> /content/en-de-general.en-filtered.en.subword.train <==\n",
            "▁Re port ▁of ▁the ▁World ▁Sum m it ▁on ▁S us tain able ▁Develop ment , ▁ J o ha n n es b ur g , ▁So uth ▁A f ric a , ▁ 2 6 ▁A ug ust - 4 ▁Se pt ember ▁ 2 0 0 2 ▁( Unit ed ▁N ation s ▁public ation , ▁S al es ▁No .\n",
            "\n",
            "==> /content/en-de-medicine.de-filtered.de.subword.train <==\n",
            "▁zu ▁Verwend bar ▁bis ▁{ MM / JJJJ }\n",
            "\n",
            "==> /content/en-de-medicine.en-filtered.en.subword.train <==\n",
            "▁EX P ▁{ MM / ▁ YYYY }\n",
            "\n",
            "==> /content/en-de-technology.de-filtered.de.subword.train <==\n",
            "▁Siehe ▁auch ▁require () , ▁require _ once () , ▁include _ once () , ▁ readfile () , ▁virtual () ▁und ▁include _ path .\n",
            "\n",
            "==> /content/en-de-technology.en-filtered.en.subword.train <==\n",
            "▁See ▁also ▁require (), ▁require _ once (), ▁include _ once (), ▁ readfile (), ▁virtual (), ▁and ▁include _ path .\n",
            "\n",
            "==> /content/en-de-general.de-filtered.de.subword.dev <==\n",
            "▁Die ▁Rolle ▁der ▁ Mitglied st a aten\n",
            "\n",
            "==> /content/en-de-general.en-filtered.en.subword.dev <==\n",
            "▁The ▁r ole ▁of ▁M ember ▁State s\n",
            "\n",
            "==> /content/en-de-medicine.de-filtered.de.subword.dev <==\n",
            "▁S omat rop in ▁( entsprechend ▁ 1 5 ▁I . E . ).\n",
            "\n",
            "==> /content/en-de-medicine.en-filtered.en.subword.dev <==\n",
            "▁( c or respond ing ▁to ▁ 1 5 ▁I U ).\n",
            "\n",
            "==> /content/en-de-technology.de-filtered.de.subword.dev <==\n",
            "▁Diese ▁Funktion ▁wird ▁benötigt , ▁um ▁Postfach namen ▁darzustellen , ▁die ▁interna tionale ▁Sonderzeichen , ▁wie ▁z . B . ▁unsere ▁Umlaute , ▁enthalten .\n",
            "\n",
            "==> /content/en-de-technology.en-filtered.en.subword.dev <==\n",
            "▁The ▁modified ▁UTF - 7 ▁encoding ▁is ▁defined ▁in ▁RFC ▁ 2 0 6 0 , ▁section ▁ 5 . 1 . 3 ▁( original ▁UTF - 7 ▁was ▁def ned ▁in ▁RFC 1 6 4 2 ).\n",
            "\n",
            "==> /content/en-de-general.de-filtered.de.subword.test <==\n",
            "▁sich ▁desse n ▁ bewusst , ▁dass ▁nach ▁dem ▁Recht ▁der ▁Ver ein igt en ▁Sta aten ▁von ▁Am er ik a ▁der ▁Innen m ini ster ▁die ▁Verwalt ung sho heit ▁über ▁Am er ik anisch - S am o a ▁besitzt ,\n",
            "\n",
            "==> /content/en-de-general.en-filtered.en.subword.test <==\n",
            "▁A ware ▁that ▁under ▁ Unit ed ▁State s ▁la w ▁the ▁Se cre t ary ▁of ▁the ▁Inter ior ▁has ▁a dministrat ive ▁j ur is dict ion ▁over ▁Am er i can ▁S am o a ,\n",
            "\n",
            "==> /content/en-de-medicine.de-filtered.de.subword.test <==\n",
            "▁ 6 6 ▁Ausführ liche ▁Informationen ▁zu ▁diese m ▁A r z n e i mittel ▁sind ▁auf ▁der ▁Website ▁der ▁E ur o pä ischen ▁A r z n e i mittel - A gen tur ▁( EM E A ) ▁http : / / www . em e a . euro p a . e u ▁verfügbar . ▁-- - - --------- --------- --------- --------- --------- --------- --------- --------- --------- --------- --------- --------- --------- ▁Die ▁folgenden ▁Informationen ▁sind ▁nur ▁für ▁ Ä r z te ▁bzw . ▁ medi zi nisches ▁F ach personal ▁bestimmt :\n",
            "\n",
            "==> /content/en-de-medicine.en-filtered.en.subword.test <==\n",
            "▁Detail ed ▁information ▁on ▁this ▁m ed ic ine ▁is ▁available ▁on ▁the ▁E ur ope an ▁M ed ic ine s ▁A g ency ▁( EM E A ) ▁web ▁site : ▁http : / / www . e me a . e ur op a . e u . ▁-- --------- --------- --------- --------- --------- --------- --------- --------- --------- --------- --------- - - --------- --------- ▁The ▁following ▁information ▁is ▁intended ▁for ▁m ed ical ▁or ▁he al th c are ▁professional s ▁only :\n",
            "\n",
            "==> /content/en-de-technology.de-filtered.de.subword.test <==\n",
            "▁Unter ▁apache _ 1 . 3 . 9 ▁/ ▁src ▁/ ▁hel pers ▁ändern ▁Sie ▁die ▁Zeile ▁ 8 9 ▁von ▁\" echo ▁\" hp ${ HPUX MAC H } - hpux ${ HPUX VER }\"; ▁exit ▁ 0 \" ▁auf : ▁\" echo ▁\" hp ${ HPUX MAC H } - hp - hpux ${ HPUX VER }\"; ▁exit ▁ 0 ▁\" 1 0 .\n",
            "\n",
            "==> /content/en-de-technology.en-filtered.en.subword.test <==\n",
            "▁Un der ▁apache _ 1 . 3 . 9 ▁/ ▁src ▁/ ▁helper s ▁change ▁line ▁ 8 9 ▁from ▁\" echo ▁\" hp ${ HPUX MAC H } - hpux ${ HPUX VER }\"; ▁exit ▁ 0 \" ▁to : ▁\" echo ▁\" hp ${ HPUX MAC H } - hp - hpux ${ HPUX VER }\"; ▁exit ▁ 0 ▁\" 1 0 .\n"
          ]
        }
      ]
    },
    {
      "cell_type": "code",
      "source": [
        "# move data to Google Drive\n",
        "from google.colab import drive\n",
        "drive.mount('/content/drive')\n",
        "\n",
        "%cd ..\n",
        "!mv /content/nmt /content/drive/MyDrive"
      ],
      "metadata": {
        "colab": {
          "base_uri": "https://localhost:8080/"
        },
        "id": "AqRHQNWOld-_",
        "outputId": "51f5b474-42c1-44e6-a61b-49793d0ccd75"
      },
      "execution_count": 23,
      "outputs": [
        {
          "output_type": "stream",
          "name": "stdout",
          "text": [
            "Mounted at /content/drive\n",
            "/\n"
          ]
        }
      ]
    },
    {
      "cell_type": "code",
      "source": [
        "# move processed corpora files to Google Drive\n",
        "# only mount Drive here if it was not already mounted previously\n",
        "\n",
        "# from google.colab import drive\n",
        "# drive.mount('/content/drive')\n",
        "\n",
        "!mv /content/en-de-* /content/drive/MyDrive/domain-adapted-nmt/corpora"
      ],
      "metadata": {
        "id": "81Gpao3pDKqA"
      },
      "execution_count": null,
      "outputs": []
    }
  ]
}